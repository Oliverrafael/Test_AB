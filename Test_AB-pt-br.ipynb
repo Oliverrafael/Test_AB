{
 "cells": [
  {
   "cell_type": "markdown",
   "metadata": {},
   "source": [
    "# Inicialização"
   ]
  },
  {
   "cell_type": "code",
   "execution_count": 2,
   "metadata": {},
   "outputs": [],
   "source": [
    "# Carregando as bibliotecas \n",
    "import pandas as pd\n",
    "import matplotlib.pyplot as plt\n",
    "import numpy as np\n",
    "import scipy.stats as stats"
   ]
  },
  {
   "cell_type": "markdown",
   "metadata": {},
   "source": [
    "# Carregando os dados "
   ]
  },
  {
   "cell_type": "code",
   "execution_count": 3,
   "metadata": {},
   "outputs": [],
   "source": [
    "# Carregando os dados de df_hypotheses \n",
    "\n",
    "df_hypotheses = pd.read_csv('hypotheses_us.csv', sep=';')"
   ]
  },
  {
   "cell_type": "code",
   "execution_count": 4,
   "metadata": {},
   "outputs": [],
   "source": [
    "# Carregando os dados de df_orders\n",
    "df_orders = pd.read_csv(\n",
    "    'orders_us.csv',\n",
    "    parse_dates=['date'])"
   ]
  },
  {
   "cell_type": "code",
   "execution_count": 5,
   "metadata": {},
   "outputs": [],
   "source": [
    "# Carregando os dados de df_visits \n",
    "df_visits = pd.read_csv(\n",
    "    'visits_us.csv',\n",
    "    parse_dates=['date'])"
   ]
  },
  {
   "cell_type": "markdown",
   "metadata": {},
   "source": [
    "# Preparando os dados"
   ]
  },
  {
   "cell_type": "markdown",
   "metadata": {},
   "source": [
    "# df_hypotheses"
   ]
  },
  {
   "cell_type": "code",
   "execution_count": 6,
   "metadata": {},
   "outputs": [],
   "source": [
    "# Corrigindo as colunas de df_hypotheses \n",
    "df_hypotheses.columns = df_hypotheses.columns.str.lower() # Convertendo para minúsculas"
   ]
  },
  {
   "cell_type": "code",
   "execution_count": 7,
   "metadata": {},
   "outputs": [
    {
     "name": "stdout",
     "output_type": "stream",
     "text": [
      "Index(['hypothesis', 'reach', 'impact', 'confidence', 'effort'], dtype='object')\n"
     ]
    }
   ],
   "source": [
    "print(df_hypotheses.columns) # Exibindo o nome das colunas "
   ]
  },
  {
   "cell_type": "markdown",
   "metadata": {},
   "source": [
    "### df_orders"
   ]
  },
  {
   "cell_type": "code",
   "execution_count": 8,
   "metadata": {},
   "outputs": [],
   "source": [
    "# Corrigindo as colunas de df_orders \n",
    "df_orders.columns = df_orders.columns.str.lower() # Convertendo para minúsculas"
   ]
  },
  {
   "cell_type": "code",
   "execution_count": 9,
   "metadata": {},
   "outputs": [],
   "source": [
    "# Alterando nome das colunas / Changing column names\n",
    "df_orders.rename(columns={'transactionid': 'transaction_id', 'visitorid': 'visitor_id'}, inplace=True)"
   ]
  },
  {
   "cell_type": "code",
   "execution_count": 10,
   "metadata": {},
   "outputs": [
    {
     "name": "stdout",
     "output_type": "stream",
     "text": [
      "<class 'pandas.core.frame.DataFrame'>\n",
      "RangeIndex: 1197 entries, 0 to 1196\n",
      "Data columns (total 5 columns):\n",
      " #   Column          Non-Null Count  Dtype         \n",
      "---  ------          --------------  -----         \n",
      " 0   transaction_id  1197 non-null   int64         \n",
      " 1   visitor_id      1197 non-null   int64         \n",
      " 2   date            1197 non-null   datetime64[ns]\n",
      " 3   revenue         1197 non-null   float64       \n",
      " 4   group           1197 non-null   object        \n",
      "dtypes: datetime64[ns](1), float64(1), int64(2), object(1)\n",
      "memory usage: 46.9+ KB\n"
     ]
    }
   ],
   "source": [
    "# Observando os dados para ver se existem valores nulos e se o tipo de dado está correto \n",
    "df_orders.info()"
   ]
  },
  {
   "cell_type": "code",
   "execution_count": 11,
   "metadata": {
    "scrolled": false
   },
   "outputs": [
    {
     "data": {
      "text/html": [
       "<div>\n",
       "<style scoped>\n",
       "    .dataframe tbody tr th:only-of-type {\n",
       "        vertical-align: middle;\n",
       "    }\n",
       "\n",
       "    .dataframe tbody tr th {\n",
       "        vertical-align: top;\n",
       "    }\n",
       "\n",
       "    .dataframe thead th {\n",
       "        text-align: right;\n",
       "    }\n",
       "</style>\n",
       "<table border=\"1\" class=\"dataframe\">\n",
       "  <thead>\n",
       "    <tr style=\"text-align: right;\">\n",
       "      <th></th>\n",
       "      <th>transaction_id</th>\n",
       "      <th>visitor_id</th>\n",
       "      <th>date</th>\n",
       "      <th>revenue</th>\n",
       "      <th>group</th>\n",
       "    </tr>\n",
       "  </thead>\n",
       "  <tbody>\n",
       "    <tr>\n",
       "      <th>1187</th>\n",
       "      <td>2274188238</td>\n",
       "      <td>132143192</td>\n",
       "      <td>2019-08-14</td>\n",
       "      <td>15.5</td>\n",
       "      <td>A</td>\n",
       "    </tr>\n",
       "    <tr>\n",
       "      <th>1188</th>\n",
       "      <td>1692103379</td>\n",
       "      <td>1022829655</td>\n",
       "      <td>2019-08-14</td>\n",
       "      <td>5.7</td>\n",
       "      <td>A</td>\n",
       "    </tr>\n",
       "    <tr>\n",
       "      <th>1189</th>\n",
       "      <td>4082620617</td>\n",
       "      <td>393266494</td>\n",
       "      <td>2019-08-14</td>\n",
       "      <td>490.4</td>\n",
       "      <td>B</td>\n",
       "    </tr>\n",
       "    <tr>\n",
       "      <th>1190</th>\n",
       "      <td>38478481</td>\n",
       "      <td>1197745035</td>\n",
       "      <td>2019-08-14</td>\n",
       "      <td>135.3</td>\n",
       "      <td>B</td>\n",
       "    </tr>\n",
       "    <tr>\n",
       "      <th>1191</th>\n",
       "      <td>3592955527</td>\n",
       "      <td>608641596</td>\n",
       "      <td>2019-08-14</td>\n",
       "      <td>255.7</td>\n",
       "      <td>B</td>\n",
       "    </tr>\n",
       "    <tr>\n",
       "      <th>1192</th>\n",
       "      <td>2662137336</td>\n",
       "      <td>3733762160</td>\n",
       "      <td>2019-08-14</td>\n",
       "      <td>100.8</td>\n",
       "      <td>B</td>\n",
       "    </tr>\n",
       "    <tr>\n",
       "      <th>1193</th>\n",
       "      <td>2203539145</td>\n",
       "      <td>370388673</td>\n",
       "      <td>2019-08-14</td>\n",
       "      <td>50.1</td>\n",
       "      <td>A</td>\n",
       "    </tr>\n",
       "    <tr>\n",
       "      <th>1194</th>\n",
       "      <td>1807773912</td>\n",
       "      <td>573423106</td>\n",
       "      <td>2019-08-14</td>\n",
       "      <td>165.3</td>\n",
       "      <td>A</td>\n",
       "    </tr>\n",
       "    <tr>\n",
       "      <th>1195</th>\n",
       "      <td>1947021204</td>\n",
       "      <td>1614305549</td>\n",
       "      <td>2019-08-14</td>\n",
       "      <td>5.5</td>\n",
       "      <td>A</td>\n",
       "    </tr>\n",
       "    <tr>\n",
       "      <th>1196</th>\n",
       "      <td>3936777065</td>\n",
       "      <td>2108080724</td>\n",
       "      <td>2019-08-15</td>\n",
       "      <td>3120.1</td>\n",
       "      <td>B</td>\n",
       "    </tr>\n",
       "  </tbody>\n",
       "</table>\n",
       "</div>"
      ],
      "text/plain": [
       "      transaction_id  visitor_id       date  revenue group\n",
       "1187      2274188238   132143192 2019-08-14     15.5     A\n",
       "1188      1692103379  1022829655 2019-08-14      5.7     A\n",
       "1189      4082620617   393266494 2019-08-14    490.4     B\n",
       "1190        38478481  1197745035 2019-08-14    135.3     B\n",
       "1191      3592955527   608641596 2019-08-14    255.7     B\n",
       "1192      2662137336  3733762160 2019-08-14    100.8     B\n",
       "1193      2203539145   370388673 2019-08-14     50.1     A\n",
       "1194      1807773912   573423106 2019-08-14    165.3     A\n",
       "1195      1947021204  1614305549 2019-08-14      5.5     A\n",
       "1196      3936777065  2108080724 2019-08-15   3120.1     B"
      ]
     },
     "execution_count": 11,
     "metadata": {},
     "output_type": "execute_result"
    }
   ],
   "source": [
    "# Visualizando os dados \n",
    "df_orders.tail(10)"
   ]
  },
  {
   "cell_type": "markdown",
   "metadata": {},
   "source": [
    "### df_visits"
   ]
  },
  {
   "cell_type": "code",
   "execution_count": 12,
   "metadata": {
    "scrolled": false
   },
   "outputs": [
    {
     "name": "stdout",
     "output_type": "stream",
     "text": [
      "<class 'pandas.core.frame.DataFrame'>\n",
      "RangeIndex: 62 entries, 0 to 61\n",
      "Data columns (total 3 columns):\n",
      " #   Column  Non-Null Count  Dtype         \n",
      "---  ------  --------------  -----         \n",
      " 0   date    62 non-null     datetime64[ns]\n",
      " 1   group   62 non-null     object        \n",
      " 2   visits  62 non-null     int64         \n",
      "dtypes: datetime64[ns](1), int64(1), object(1)\n",
      "memory usage: 1.6+ KB\n"
     ]
    }
   ],
   "source": [
    "# Observando os dados para ver se existem valores nulos e se o tipo de dado está correto\n",
    "df_visits.info()"
   ]
  },
  {
   "cell_type": "code",
   "execution_count": 13,
   "metadata": {
    "scrolled": true
   },
   "outputs": [
    {
     "data": {
      "text/html": [
       "<div>\n",
       "<style scoped>\n",
       "    .dataframe tbody tr th:only-of-type {\n",
       "        vertical-align: middle;\n",
       "    }\n",
       "\n",
       "    .dataframe tbody tr th {\n",
       "        vertical-align: top;\n",
       "    }\n",
       "\n",
       "    .dataframe thead th {\n",
       "        text-align: right;\n",
       "    }\n",
       "</style>\n",
       "<table border=\"1\" class=\"dataframe\">\n",
       "  <thead>\n",
       "    <tr style=\"text-align: right;\">\n",
       "      <th></th>\n",
       "      <th>date</th>\n",
       "      <th>group</th>\n",
       "      <th>visits</th>\n",
       "    </tr>\n",
       "  </thead>\n",
       "  <tbody>\n",
       "    <tr>\n",
       "      <th>52</th>\n",
       "      <td>2019-08-22</td>\n",
       "      <td>B</td>\n",
       "      <td>650</td>\n",
       "    </tr>\n",
       "    <tr>\n",
       "      <th>53</th>\n",
       "      <td>2019-08-23</td>\n",
       "      <td>B</td>\n",
       "      <td>546</td>\n",
       "    </tr>\n",
       "    <tr>\n",
       "      <th>54</th>\n",
       "      <td>2019-08-24</td>\n",
       "      <td>B</td>\n",
       "      <td>378</td>\n",
       "    </tr>\n",
       "    <tr>\n",
       "      <th>55</th>\n",
       "      <td>2019-08-25</td>\n",
       "      <td>B</td>\n",
       "      <td>679</td>\n",
       "    </tr>\n",
       "    <tr>\n",
       "      <th>56</th>\n",
       "      <td>2019-08-26</td>\n",
       "      <td>B</td>\n",
       "      <td>676</td>\n",
       "    </tr>\n",
       "    <tr>\n",
       "      <th>57</th>\n",
       "      <td>2019-08-27</td>\n",
       "      <td>B</td>\n",
       "      <td>720</td>\n",
       "    </tr>\n",
       "    <tr>\n",
       "      <th>58</th>\n",
       "      <td>2019-08-28</td>\n",
       "      <td>B</td>\n",
       "      <td>654</td>\n",
       "    </tr>\n",
       "    <tr>\n",
       "      <th>59</th>\n",
       "      <td>2019-08-29</td>\n",
       "      <td>B</td>\n",
       "      <td>531</td>\n",
       "    </tr>\n",
       "    <tr>\n",
       "      <th>60</th>\n",
       "      <td>2019-08-30</td>\n",
       "      <td>B</td>\n",
       "      <td>490</td>\n",
       "    </tr>\n",
       "    <tr>\n",
       "      <th>61</th>\n",
       "      <td>2019-08-31</td>\n",
       "      <td>B</td>\n",
       "      <td>718</td>\n",
       "    </tr>\n",
       "  </tbody>\n",
       "</table>\n",
       "</div>"
      ],
      "text/plain": [
       "         date group  visits\n",
       "52 2019-08-22     B     650\n",
       "53 2019-08-23     B     546\n",
       "54 2019-08-24     B     378\n",
       "55 2019-08-25     B     679\n",
       "56 2019-08-26     B     676\n",
       "57 2019-08-27     B     720\n",
       "58 2019-08-28     B     654\n",
       "59 2019-08-29     B     531\n",
       "60 2019-08-30     B     490\n",
       "61 2019-08-31     B     718"
      ]
     },
     "execution_count": 13,
     "metadata": {},
     "output_type": "execute_result"
    }
   ],
   "source": [
    "# Visualizando os dados \n",
    "df_visits.tail(10)"
   ]
  },
  {
   "cell_type": "markdown",
   "metadata": {},
   "source": [
    "# Parte 1. Priorizando Hipóteses \n"
   ]
  },
  {
   "cell_type": "code",
   "execution_count": 14,
   "metadata": {
    "scrolled": false
   },
   "outputs": [
    {
     "data": {
      "text/html": [
       "<div>\n",
       "<style scoped>\n",
       "    .dataframe tbody tr th:only-of-type {\n",
       "        vertical-align: middle;\n",
       "    }\n",
       "\n",
       "    .dataframe tbody tr th {\n",
       "        vertical-align: top;\n",
       "    }\n",
       "\n",
       "    .dataframe thead th {\n",
       "        text-align: right;\n",
       "    }\n",
       "</style>\n",
       "<table border=\"1\" class=\"dataframe\">\n",
       "  <thead>\n",
       "    <tr style=\"text-align: right;\">\n",
       "      <th></th>\n",
       "      <th>hypothesis</th>\n",
       "      <th>ice</th>\n",
       "    </tr>\n",
       "  </thead>\n",
       "  <tbody>\n",
       "    <tr>\n",
       "      <th>8</th>\n",
       "      <td>Launch a promotion that gives users discounts ...</td>\n",
       "      <td>16.200000</td>\n",
       "    </tr>\n",
       "    <tr>\n",
       "      <th>0</th>\n",
       "      <td>Add two new channels for attracting traffic. T...</td>\n",
       "      <td>13.333333</td>\n",
       "    </tr>\n",
       "    <tr>\n",
       "      <th>7</th>\n",
       "      <td>Add a subscription form to all the main pages....</td>\n",
       "      <td>11.200000</td>\n",
       "    </tr>\n",
       "    <tr>\n",
       "      <th>6</th>\n",
       "      <td>Show banners with current offers and sales on ...</td>\n",
       "      <td>8.000000</td>\n",
       "    </tr>\n",
       "    <tr>\n",
       "      <th>2</th>\n",
       "      <td>Add product recommendation blocks to the store...</td>\n",
       "      <td>7.000000</td>\n",
       "    </tr>\n",
       "    <tr>\n",
       "      <th>1</th>\n",
       "      <td>Launch your own delivery service. This will sh...</td>\n",
       "      <td>2.000000</td>\n",
       "    </tr>\n",
       "    <tr>\n",
       "      <th>5</th>\n",
       "      <td>Add a customer review page. This will increase...</td>\n",
       "      <td>1.333333</td>\n",
       "    </tr>\n",
       "    <tr>\n",
       "      <th>3</th>\n",
       "      <td>Change the category structure. This will incre...</td>\n",
       "      <td>1.125000</td>\n",
       "    </tr>\n",
       "    <tr>\n",
       "      <th>4</th>\n",
       "      <td>Change the background color on the main page. ...</td>\n",
       "      <td>1.000000</td>\n",
       "    </tr>\n",
       "  </tbody>\n",
       "</table>\n",
       "</div>"
      ],
      "text/plain": [
       "                                          hypothesis        ice\n",
       "8  Launch a promotion that gives users discounts ...  16.200000\n",
       "0  Add two new channels for attracting traffic. T...  13.333333\n",
       "7  Add a subscription form to all the main pages....  11.200000\n",
       "6  Show banners with current offers and sales on ...   8.000000\n",
       "2  Add product recommendation blocks to the store...   7.000000\n",
       "1  Launch your own delivery service. This will sh...   2.000000\n",
       "5  Add a customer review page. This will increase...   1.333333\n",
       "3  Change the category structure. This will incre...   1.125000\n",
       "4  Change the background color on the main page. ...   1.000000"
      ]
     },
     "execution_count": 14,
     "metadata": {},
     "output_type": "execute_result"
    }
   ],
   "source": [
    "# Aplicar o framework ICE para priorizar hipóteses. Classifique-os em ordem decrescente de prioridade.\n",
    "df_hypotheses['ice'] = (df_hypotheses['impact'] * df_hypotheses['confidence']) / df_hypotheses['effort'] \n",
    "df_hypotheses_sorted_ice = df_hypotheses[['hypothesis', 'ice']].sort_values(by='ice', ascending=False)\n",
    "df_hypotheses_sorted_ice # exibindo os resultados de 'ice'"
   ]
  },
  {
   "cell_type": "code",
   "execution_count": 15,
   "metadata": {
    "scrolled": true
   },
   "outputs": [
    {
     "data": {
      "text/html": [
       "<div>\n",
       "<style scoped>\n",
       "    .dataframe tbody tr th:only-of-type {\n",
       "        vertical-align: middle;\n",
       "    }\n",
       "\n",
       "    .dataframe tbody tr th {\n",
       "        vertical-align: top;\n",
       "    }\n",
       "\n",
       "    .dataframe thead th {\n",
       "        text-align: right;\n",
       "    }\n",
       "</style>\n",
       "<table border=\"1\" class=\"dataframe\">\n",
       "  <thead>\n",
       "    <tr style=\"text-align: right;\">\n",
       "      <th></th>\n",
       "      <th>hypothesis</th>\n",
       "      <th>rice</th>\n",
       "    </tr>\n",
       "  </thead>\n",
       "  <tbody>\n",
       "    <tr>\n",
       "      <th>7</th>\n",
       "      <td>Add a subscription form to all the main pages....</td>\n",
       "      <td>112.0</td>\n",
       "    </tr>\n",
       "    <tr>\n",
       "      <th>2</th>\n",
       "      <td>Add product recommendation blocks to the store...</td>\n",
       "      <td>56.0</td>\n",
       "    </tr>\n",
       "    <tr>\n",
       "      <th>0</th>\n",
       "      <td>Add two new channels for attracting traffic. T...</td>\n",
       "      <td>40.0</td>\n",
       "    </tr>\n",
       "    <tr>\n",
       "      <th>6</th>\n",
       "      <td>Show banners with current offers and sales on ...</td>\n",
       "      <td>40.0</td>\n",
       "    </tr>\n",
       "    <tr>\n",
       "      <th>8</th>\n",
       "      <td>Launch a promotion that gives users discounts ...</td>\n",
       "      <td>16.2</td>\n",
       "    </tr>\n",
       "    <tr>\n",
       "      <th>3</th>\n",
       "      <td>Change the category structure. This will incre...</td>\n",
       "      <td>9.0</td>\n",
       "    </tr>\n",
       "    <tr>\n",
       "      <th>1</th>\n",
       "      <td>Launch your own delivery service. This will sh...</td>\n",
       "      <td>4.0</td>\n",
       "    </tr>\n",
       "    <tr>\n",
       "      <th>5</th>\n",
       "      <td>Add a customer review page. This will increase...</td>\n",
       "      <td>4.0</td>\n",
       "    </tr>\n",
       "    <tr>\n",
       "      <th>4</th>\n",
       "      <td>Change the background color on the main page. ...</td>\n",
       "      <td>3.0</td>\n",
       "    </tr>\n",
       "  </tbody>\n",
       "</table>\n",
       "</div>"
      ],
      "text/plain": [
       "                                          hypothesis   rice\n",
       "7  Add a subscription form to all the main pages....  112.0\n",
       "2  Add product recommendation blocks to the store...   56.0\n",
       "0  Add two new channels for attracting traffic. T...   40.0\n",
       "6  Show banners with current offers and sales on ...   40.0\n",
       "8  Launch a promotion that gives users discounts ...   16.2\n",
       "3  Change the category structure. This will incre...    9.0\n",
       "1  Launch your own delivery service. This will sh...    4.0\n",
       "5  Add a customer review page. This will increase...    4.0\n",
       "4  Change the background color on the main page. ...    3.0"
      ]
     },
     "execution_count": 15,
     "metadata": {},
     "output_type": "execute_result"
    }
   ],
   "source": [
    "# Aplicar o framework RICE para priorizar hipóteses. Classifique-os em ordem decrescente de prioridade.\n",
    "df_hypotheses['rice'] = (df_hypotheses['reach'] * df_hypotheses['impact'] * df_hypotheses['confidence']) / df_hypotheses['effort']\n",
    "df_hypotheses_sorted_rice = df_hypotheses[['hypothesis', 'rice']].sort_values(by='rice', ascending=False)\n",
    "df_hypotheses_sorted_rice # exibindo os resultados de 'rice'"
   ]
  },
  {
   "cell_type": "code",
   "execution_count": 16,
   "metadata": {},
   "outputs": [
    {
     "data": {
      "text/html": [
       "<div>\n",
       "<style scoped>\n",
       "    .dataframe tbody tr th:only-of-type {\n",
       "        vertical-align: middle;\n",
       "    }\n",
       "\n",
       "    .dataframe tbody tr th {\n",
       "        vertical-align: top;\n",
       "    }\n",
       "\n",
       "    .dataframe thead th {\n",
       "        text-align: right;\n",
       "    }\n",
       "</style>\n",
       "<table border=\"1\" class=\"dataframe\">\n",
       "  <thead>\n",
       "    <tr style=\"text-align: right;\">\n",
       "      <th></th>\n",
       "      <th>hypothesis</th>\n",
       "      <th>ice</th>\n",
       "    </tr>\n",
       "  </thead>\n",
       "  <tbody>\n",
       "    <tr>\n",
       "      <th>8</th>\n",
       "      <td>Launch a promotion that gives users discounts ...</td>\n",
       "      <td>16.200000</td>\n",
       "    </tr>\n",
       "    <tr>\n",
       "      <th>0</th>\n",
       "      <td>Add two new channels for attracting traffic. T...</td>\n",
       "      <td>13.333333</td>\n",
       "    </tr>\n",
       "    <tr>\n",
       "      <th>7</th>\n",
       "      <td>Add a subscription form to all the main pages....</td>\n",
       "      <td>11.200000</td>\n",
       "    </tr>\n",
       "  </tbody>\n",
       "</table>\n",
       "</div>"
      ],
      "text/plain": [
       "                                          hypothesis        ice\n",
       "8  Launch a promotion that gives users discounts ...  16.200000\n",
       "0  Add two new channels for attracting traffic. T...  13.333333\n",
       "7  Add a subscription form to all the main pages....  11.200000"
      ]
     },
     "execution_count": 16,
     "metadata": {},
     "output_type": "execute_result"
    }
   ],
   "source": [
    "# Abaixo irei criar o top 3 hipóteses de 'ice'  e 'rice' e observar quais são as hipóteses mais promissoras\n",
    "top_3_ice = df_hypotheses_sorted_ice.head(3)\n",
    "top_3_ice"
   ]
  },
  {
   "cell_type": "code",
   "execution_count": 17,
   "metadata": {
    "scrolled": false
   },
   "outputs": [
    {
     "data": {
      "image/png": "[encoded data removed]",
      "text/plain": [
       "<Figure size 1000x600 with 1 Axes>"
      ]
     },
     "metadata": {},
     "output_type": "display_data"
    }
   ],
   "source": [
    "# Exibindo o gráfico do top 3 de ice\n",
    "plt.figure(figsize=(10, 6))\n",
    "plt.barh(top_3_ice['hypothesis'], top_3_ice['ice'], color='skyblue')\n",
    "plt.xlabel('ice Score')\n",
    "plt.title('Top 3 Hipóteses Priorizadas pelo ice Score')\n",
    "plt.gca().invert_yaxis()  # Inverter a ordem para ter a hipótese mais importante no topo\n",
    "plt.show()"
   ]
  },
  {
   "cell_type": "code",
   "execution_count": 18,
   "metadata": {
    "scrolled": true
   },
   "outputs": [
    {
     "data": {
      "text/html": [
       "<div>\n",
       "<style scoped>\n",
       "    .dataframe tbody tr th:only-of-type {\n",
       "        vertical-align: middle;\n",
       "    }\n",
       "\n",
       "    .dataframe tbody tr th {\n",
       "        vertical-align: top;\n",
       "    }\n",
       "\n",
       "    .dataframe thead th {\n",
       "        text-align: right;\n",
       "    }\n",
       "</style>\n",
       "<table border=\"1\" class=\"dataframe\">\n",
       "  <thead>\n",
       "    <tr style=\"text-align: right;\">\n",
       "      <th></th>\n",
       "      <th>hypothesis</th>\n",
       "      <th>ice</th>\n",
       "    </tr>\n",
       "  </thead>\n",
       "  <tbody>\n",
       "    <tr>\n",
       "      <th>5</th>\n",
       "      <td>Add a customer review page. This will increase...</td>\n",
       "      <td>1.333333</td>\n",
       "    </tr>\n",
       "    <tr>\n",
       "      <th>3</th>\n",
       "      <td>Change the category structure. This will incre...</td>\n",
       "      <td>1.125000</td>\n",
       "    </tr>\n",
       "    <tr>\n",
       "      <th>4</th>\n",
       "      <td>Change the background color on the main page. ...</td>\n",
       "      <td>1.000000</td>\n",
       "    </tr>\n",
       "  </tbody>\n",
       "</table>\n",
       "</div>"
      ],
      "text/plain": [
       "                                          hypothesis       ice\n",
       "5  Add a customer review page. This will increase...  1.333333\n",
       "3  Change the category structure. This will incre...  1.125000\n",
       "4  Change the background color on the main page. ...  1.000000"
      ]
     },
     "execution_count": 18,
     "metadata": {},
     "output_type": "execute_result"
    }
   ],
   "source": [
    "# Exibindo o bottom 3 de ice\n",
    "bottom_3_ice = df_hypotheses_sorted_ice.tail(3)\n",
    "bottom_3_ice"
   ]
  },
  {
   "cell_type": "code",
   "execution_count": 19,
   "metadata": {},
   "outputs": [
    {
     "data": {
      "image/png": "[encoded data removed]",
      "text/plain": [
       "<Figure size 1000x600 with 1 Axes>"
      ]
     },
     "metadata": {},
     "output_type": "display_data"
    }
   ],
   "source": [
    "# Exibindo o gráfico de bottom 3 de ice\n",
    "plt.figure(figsize=(10, 6))\n",
    "plt.barh(bottom_3_ice['hypothesis'], bottom_3_ice['ice'], color='red')\n",
    "plt.xlabel('ice Score')\n",
    "plt.title('Bottom 3 Hipóteses ice score')\n",
    "plt.gca().invert_yaxis()\n",
    "plt.show()"
   ]
  },
  {
   "cell_type": "code",
   "execution_count": 20,
   "metadata": {
    "scrolled": false
   },
   "outputs": [
    {
     "data": {
      "text/html": [
       "<div>\n",
       "<style scoped>\n",
       "    .dataframe tbody tr th:only-of-type {\n",
       "        vertical-align: middle;\n",
       "    }\n",
       "\n",
       "    .dataframe tbody tr th {\n",
       "        vertical-align: top;\n",
       "    }\n",
       "\n",
       "    .dataframe thead th {\n",
       "        text-align: right;\n",
       "    }\n",
       "</style>\n",
       "<table border=\"1\" class=\"dataframe\">\n",
       "  <thead>\n",
       "    <tr style=\"text-align: right;\">\n",
       "      <th></th>\n",
       "      <th>hypothesis</th>\n",
       "      <th>rice</th>\n",
       "    </tr>\n",
       "  </thead>\n",
       "  <tbody>\n",
       "    <tr>\n",
       "      <th>7</th>\n",
       "      <td>Add a subscription form to all the main pages....</td>\n",
       "      <td>112.0</td>\n",
       "    </tr>\n",
       "    <tr>\n",
       "      <th>2</th>\n",
       "      <td>Add product recommendation blocks to the store...</td>\n",
       "      <td>56.0</td>\n",
       "    </tr>\n",
       "    <tr>\n",
       "      <th>0</th>\n",
       "      <td>Add two new channels for attracting traffic. T...</td>\n",
       "      <td>40.0</td>\n",
       "    </tr>\n",
       "  </tbody>\n",
       "</table>\n",
       "</div>"
      ],
      "text/plain": [
       "                                          hypothesis   rice\n",
       "7  Add a subscription form to all the main pages....  112.0\n",
       "2  Add product recommendation blocks to the store...   56.0\n",
       "0  Add two new channels for attracting traffic. T...   40.0"
      ]
     },
     "execution_count": 20,
     "metadata": {},
     "output_type": "execute_result"
    }
   ],
   "source": [
    "# Exibindo o top 3 de rice\n",
    "top_3_rice = df_hypotheses_sorted_rice.head(3)\n",
    "top_3_rice"
   ]
  },
  {
   "cell_type": "code",
   "execution_count": 21,
   "metadata": {
    "scrolled": true
   },
   "outputs": [
    {
     "data": {
      "image/png": "[encoded data removed]",
      "text/plain": [
       "<Figure size 1000x600 with 1 Axes>"
      ]
     },
     "metadata": {},
     "output_type": "display_data"
    }
   ],
   "source": [
    "# Exibindo o gráfico de top 3 rice\n",
    "plt.figure(figsize=(10, 6))\n",
    "plt.barh(top_3_rice['hypothesis'], top_3_rice['rice'], color='skyblue')\n",
    "plt.xlabel('rice Score')\n",
    "plt.title('Top 3 Hipóteses Priorizadas pelo rice Score')\n",
    "plt.gca().invert_yaxis()  # Inverte a ordem para ter a hipótese mais importante no topo\n",
    "plt.show()"
   ]
  },
  {
   "cell_type": "code",
   "execution_count": 22,
   "metadata": {},
   "outputs": [
    {
     "data": {
      "text/html": [
       "<div>\n",
       "<style scoped>\n",
       "    .dataframe tbody tr th:only-of-type {\n",
       "        vertical-align: middle;\n",
       "    }\n",
       "\n",
       "    .dataframe tbody tr th {\n",
       "        vertical-align: top;\n",
       "    }\n",
       "\n",
       "    .dataframe thead th {\n",
       "        text-align: right;\n",
       "    }\n",
       "</style>\n",
       "<table border=\"1\" class=\"dataframe\">\n",
       "  <thead>\n",
       "    <tr style=\"text-align: right;\">\n",
       "      <th></th>\n",
       "      <th>hypothesis</th>\n",
       "      <th>rice</th>\n",
       "    </tr>\n",
       "  </thead>\n",
       "  <tbody>\n",
       "    <tr>\n",
       "      <th>1</th>\n",
       "      <td>Launch your own delivery service. This will sh...</td>\n",
       "      <td>4.0</td>\n",
       "    </tr>\n",
       "    <tr>\n",
       "      <th>5</th>\n",
       "      <td>Add a customer review page. This will increase...</td>\n",
       "      <td>4.0</td>\n",
       "    </tr>\n",
       "    <tr>\n",
       "      <th>4</th>\n",
       "      <td>Change the background color on the main page. ...</td>\n",
       "      <td>3.0</td>\n",
       "    </tr>\n",
       "  </tbody>\n",
       "</table>\n",
       "</div>"
      ],
      "text/plain": [
       "                                          hypothesis  rice\n",
       "1  Launch your own delivery service. This will sh...   4.0\n",
       "5  Add a customer review page. This will increase...   4.0\n",
       "4  Change the background color on the main page. ...   3.0"
      ]
     },
     "execution_count": 22,
     "metadata": {},
     "output_type": "execute_result"
    }
   ],
   "source": [
    "# Exibindo o bottom 3 de rice\n",
    "bottom_3_rice = df_hypotheses_sorted_rice.tail(3)\n",
    "bottom_3_rice"
   ]
  },
  {
   "cell_type": "code",
   "execution_count": 23,
   "metadata": {},
   "outputs": [
    {
     "data": {
      "image/png": "[encoded data removed]",
      "text/plain": [
       "<Figure size 1000x600 with 1 Axes>"
      ]
     },
     "metadata": {},
     "output_type": "display_data"
    }
   ],
   "source": [
    "# Exibindo o gráfico de bottom 3 rice\n",
    "plt.figure(figsize=(10, 6))\n",
    "plt.barh(bottom_3_rice['hypothesis'], bottom_3_rice['rice'], color='red')\n",
    "plt.xlabel('rice Score')\n",
    "plt.title('Bottom 3 Hipóteses rice Score')\n",
    "plt.gca().invert_yaxis()\n",
    "plt.show()"
   ]
  },
  {
   "cell_type": "markdown",
   "metadata": {},
   "source": [
    "# Mostre como a priorização de hipóteses muda quando você usa RICE em vez de ICE\n",
    "OBS: A priorização de hipóteses muda quando utilizamos rice por conta do fator reach(alcance), que nós diz quantas pessoas são impactadas por esta hipótese e por conta disso as nossas hipóteses mudam significamente porque uma hipóteses que impacta mais usuários pode ter um efeito maior no resultado geral"
   ]
  },
  {
   "cell_type": "markdown",
   "metadata": {},
   "source": [
    "# Dê uma explicação para as alterações.\n",
    "\n",
    "TOP 1\n",
    "\n",
    "\"Add a subscription form to all the main pages\" foi promovida do terceiro lugar no ICE para o primeiro no RICE, indicando que seu alcance(reach) é significativamente maior e por conta disto, seu impacto potencial aumenta consideravelmente quando o alcance(reach) é levado em conta.\n",
    "\n",
    "TOP 2 \n",
    "\n",
    "\"Add product recommendation blocks to the store\" subiu significativamente no ranking do ICE(5º lugar) para o RICE(2º lugar), indicando que seu alcance(reach) é maior do que outras hipóteses que estavam acima dela no ICE.\n"
   ]
  },
  {
   "cell_type": "markdown",
   "metadata": {},
   "source": [
    "OBS: \"Launch a promotion that gives users discounts\" caiu do primeiro lugar no ICE para o quinto lugar no RICE, provavelmente porque no framework ice \"Launch a promotion that gives users discounts\" tenha um impacto e confiança altos porém seu alcance é menor comparado a outras hipóteses.\n",
    "\n",
    "OBS: Podemos observar em df_hypotheses_sorted_ice e em df_hypotheses_sorted_rice que utilizando tail que hipóteses como \"Change the background color on the main page\" permanecem no final da lista em ambos os frameworks, indicando que tanto seu impacto quanto seu alcance são baixos.\n",
    "\n",
    "OBS: Além de quão forte é a hipótese, temos que levar em consideração quantos usuários ela afetará.\n"
   ]
  },
  {
   "cell_type": "markdown",
   "metadata": {},
   "source": [
    "# Parte 2. Análise de teste A/B \n",
    "\n",
    "## Faça um gráfico da receita acumulada por grupo. Tire conclusões e crie conjecturas."
   ]
  },
  {
   "cell_type": "code",
   "execution_count": 24,
   "metadata": {
    "scrolled": false
   },
   "outputs": [
    {
     "data": {
      "text/html": [
       "<div>\n",
       "<style scoped>\n",
       "    .dataframe tbody tr th:only-of-type {\n",
       "        vertical-align: middle;\n",
       "    }\n",
       "\n",
       "    .dataframe tbody tr th {\n",
       "        vertical-align: top;\n",
       "    }\n",
       "\n",
       "    .dataframe thead th {\n",
       "        text-align: right;\n",
       "    }\n",
       "</style>\n",
       "<table border=\"1\" class=\"dataframe\">\n",
       "  <thead>\n",
       "    <tr style=\"text-align: right;\">\n",
       "      <th></th>\n",
       "      <th>date</th>\n",
       "      <th>group</th>\n",
       "      <th>orders</th>\n",
       "      <th>buyers</th>\n",
       "      <th>revenue</th>\n",
       "      <th>visitors</th>\n",
       "    </tr>\n",
       "  </thead>\n",
       "  <tbody>\n",
       "    <tr>\n",
       "      <th>0</th>\n",
       "      <td>2019-08-01</td>\n",
       "      <td>A</td>\n",
       "      <td>24</td>\n",
       "      <td>20</td>\n",
       "      <td>2356.8</td>\n",
       "      <td>719</td>\n",
       "    </tr>\n",
       "    <tr>\n",
       "      <th>1</th>\n",
       "      <td>2019-08-01</td>\n",
       "      <td>B</td>\n",
       "      <td>21</td>\n",
       "      <td>20</td>\n",
       "      <td>1620.0</td>\n",
       "      <td>713</td>\n",
       "    </tr>\n",
       "    <tr>\n",
       "      <th>2</th>\n",
       "      <td>2019-08-02</td>\n",
       "      <td>A</td>\n",
       "      <td>44</td>\n",
       "      <td>38</td>\n",
       "      <td>3860.3</td>\n",
       "      <td>1338</td>\n",
       "    </tr>\n",
       "    <tr>\n",
       "      <th>3</th>\n",
       "      <td>2019-08-02</td>\n",
       "      <td>B</td>\n",
       "      <td>45</td>\n",
       "      <td>43</td>\n",
       "      <td>4243.8</td>\n",
       "      <td>1294</td>\n",
       "    </tr>\n",
       "    <tr>\n",
       "      <th>4</th>\n",
       "      <td>2019-08-03</td>\n",
       "      <td>A</td>\n",
       "      <td>68</td>\n",
       "      <td>62</td>\n",
       "      <td>5675.5</td>\n",
       "      <td>1845</td>\n",
       "    </tr>\n",
       "    <tr>\n",
       "      <th>...</th>\n",
       "      <td>...</td>\n",
       "      <td>...</td>\n",
       "      <td>...</td>\n",
       "      <td>...</td>\n",
       "      <td>...</td>\n",
       "      <td>...</td>\n",
       "    </tr>\n",
       "    <tr>\n",
       "      <th>57</th>\n",
       "      <td>2019-08-29</td>\n",
       "      <td>B</td>\n",
       "      <td>596</td>\n",
       "      <td>544</td>\n",
       "      <td>87343.0</td>\n",
       "      <td>17708</td>\n",
       "    </tr>\n",
       "    <tr>\n",
       "      <th>58</th>\n",
       "      <td>2019-08-30</td>\n",
       "      <td>A</td>\n",
       "      <td>545</td>\n",
       "      <td>493</td>\n",
       "      <td>63563.5</td>\n",
       "      <td>18037</td>\n",
       "    </tr>\n",
       "    <tr>\n",
       "      <th>59</th>\n",
       "      <td>2019-08-30</td>\n",
       "      <td>B</td>\n",
       "      <td>620</td>\n",
       "      <td>567</td>\n",
       "      <td>90736.3</td>\n",
       "      <td>18198</td>\n",
       "    </tr>\n",
       "    <tr>\n",
       "      <th>60</th>\n",
       "      <td>2019-08-31</td>\n",
       "      <td>A</td>\n",
       "      <td>557</td>\n",
       "      <td>503</td>\n",
       "      <td>64554.9</td>\n",
       "      <td>18736</td>\n",
       "    </tr>\n",
       "    <tr>\n",
       "      <th>61</th>\n",
       "      <td>2019-08-31</td>\n",
       "      <td>B</td>\n",
       "      <td>640</td>\n",
       "      <td>586</td>\n",
       "      <td>92840.6</td>\n",
       "      <td>18916</td>\n",
       "    </tr>\n",
       "  </tbody>\n",
       "</table>\n",
       "<p>62 rows × 6 columns</p>\n",
       "</div>"
      ],
      "text/plain": [
       "         date group  orders  buyers  revenue  visitors\n",
       "0  2019-08-01     A      24      20   2356.8       719\n",
       "1  2019-08-01     B      21      20   1620.0       713\n",
       "2  2019-08-02     A      44      38   3860.3      1338\n",
       "3  2019-08-02     B      45      43   4243.8      1294\n",
       "4  2019-08-03     A      68      62   5675.5      1845\n",
       "..        ...   ...     ...     ...      ...       ...\n",
       "57 2019-08-29     B     596     544  87343.0     17708\n",
       "58 2019-08-30     A     545     493  63563.5     18037\n",
       "59 2019-08-30     B     620     567  90736.3     18198\n",
       "60 2019-08-31     A     557     503  64554.9     18736\n",
       "61 2019-08-31     B     640     586  92840.6     18916\n",
       "\n",
       "[62 rows x 6 columns]"
      ]
     },
     "execution_count": 24,
     "metadata": {},
     "output_type": "execute_result"
    }
   ],
   "source": [
    "# Construindo um vetor com valores de pares unívocos de grupos de datas\n",
    "dates_group = df_orders[['date', 'group']].drop_duplicates()\n",
    "# Obtendo dados diários cumulativos agregados sobre pedidos\n",
    "orders_aggregated = dates_group.apply(\n",
    "    lambda x: df_orders[np.logical_and(df_orders['date'] <= x['date'], df_orders['group'] == x['group'])].agg({\n",
    "'date' : 'max',\n",
    "'group' : 'max',\n",
    "'transaction_id' : pd.Series.nunique,\n",
    "'visitor_id' : pd.Series.nunique,\n",
    "'revenue' : 'sum'}), axis=1).sort_values(by=['date','group'])\n",
    "# obtendo dados diários cumulativos agregados\n",
    "dates_group.apply(\n",
    "    lambda x: df_orders[np.logical_and(df_orders['date'] <= x['date'], df_orders['group'] == x['group'])].agg({\n",
    "'date' : 'max',\n",
    "'group' : 'max',\n",
    "'transaction_id' : pd.Series.nunique,\n",
    "'visitor_id' : pd.Series.nunique,\n",
    "'revenue' : 'sum'}), axis=1).sort_values(by=['date','group'])\n",
    "# obtendo dados diários cumulativos agregados sobre visitantes\n",
    "visitors_aggregated = dates_group.apply(\n",
    "    lambda x: df_visits[np.logical_and(df_visits['date'] <= x['date'], df_visits['group'] == x['group'])].agg({\n",
    "'date' : 'max',\n",
    "'group' : 'max',\n",
    "'visits' : 'sum'}), axis=1).sort_values(by=['date','group'])\n",
    "# juntando as duas tabelas em uma\n",
    "cumulative_data = orders_aggregated.merge(visitors_aggregated, left_on=['date', 'group'], right_on=['date', 'group'])\n",
    "cumulative_data.columns = ['date', 'group', 'orders', 'buyers', 'revenue', 'visitors'] # dando nome descritivo as colunas\n",
    "\n",
    "cumulative_data # exibindo resultado"
   ]
  },
  {
   "cell_type": "code",
   "execution_count": 25,
   "metadata": {},
   "outputs": [
    {
     "data": {
      "text/plain": [
       "<matplotlib.legend.Legend at 0x21c00360e50>"
      ]
     },
     "execution_count": 25,
     "metadata": {},
     "output_type": "execute_result"
    },
    {
     "data": {
      "image/png": "[encoded data removed]",
      "text/plain": [
       "<Figure size 1000x500 with 1 Axes>"
      ]
     },
     "metadata": {},
     "output_type": "display_data"
    }
   ],
   "source": [
    "# Receita acumulada por grupo\n",
    "# receita acumulada do grupo A\n",
    "cumulative_revenueA = cumulative_data[cumulative_data['group']=='A'][['date', 'revenue', 'orders']]\n",
    "# receita acumulada do grupo B\n",
    "cumulative_revenueB = cumulative_data[cumulative_data['group']=='B'][['date', 'revenue', 'orders']]\n",
    "# Plotando a receita acumulada\n",
    "plt.figure(figsize=(10, 5))\n",
    "plt.plot(cumulative_revenueA['date'], cumulative_revenueA['revenue'], label='A')\n",
    "plt.plot(cumulative_revenueB['date'], cumulative_revenueB['revenue'], label='B')\n",
    "plt.legend()"
   ]
  },
  {
   "cell_type": "markdown",
   "metadata": {},
   "source": [
    "Conjecturas:\n",
    "- Pode ser que mudanças aplicadas ao grupo B foram mais eficazes em aumentar a receita do que as mudanças no grupo A.\n",
    "\n",
    "- O grupo B pode ter um público alvo que corresponde melhor as alterações realizadas durante o teste.\n",
    "---\n",
    "# Conclusão:\n",
    "O segmento B assumiu a liderança a partir do meio do teste e se manteve na frente."
   ]
  },
  {
   "cell_type": "code",
   "execution_count": 26,
   "metadata": {},
   "outputs": [
    {
     "data": {
      "text/plain": [
       "<matplotlib.legend.Legend at 0x21c00386290>"
      ]
     },
     "execution_count": 26,
     "metadata": {},
     "output_type": "execute_result"
    },
    {
     "data": {
      "image/png": "[encoded data removed]",
      "text/plain": [
       "<Figure size 1400x600 with 1 Axes>"
      ]
     },
     "metadata": {},
     "output_type": "display_data"
    }
   ],
   "source": [
    "# Faça um gráfico do tamanho médio acumulado do pedido por grupo. Tire conclusões e crie conjecturas.\n",
    "# Plotando gráfico do tamanho médio acumulado por grupo\n",
    "plt.figure(figsize=(14, 6))\n",
    "plt.plot(cumulative_revenueA['date'], cumulative_revenueA['revenue'] / cumulative_revenueA['orders'], label='A')\n",
    "plt.plot(cumulative_revenueB['date'], cumulative_revenueB['revenue'] / cumulative_revenueB['orders'], label='B')\n",
    "plt.legend()"
   ]
  },
  {
   "cell_type": "markdown",
   "metadata": {},
   "source": [
    "Conjectura: \n",
    "- As estrategias de marketing para o grupo B podem ser mais eficaz resultando em um tamanho médio maior de pedidos.\n",
    "\n",
    "- O grupo B pode ter um publico alvo com melhores condições financeiras, que influencia no tamanho medio dos pedidos.\n",
    "---\n",
    "# Conclusão: \n",
    "O valor cumulativo dos volumes médios de ambos seguimentos apresentam flutuações, podemos observar que na maior parte do tempo o tamanho médio dos pedidos acumulados tendem a ser maior para o segmento B na maior parte do tempo msd ainda é cedo para tomar alguma decisão baseada nisso. \n"
   ]
  },
  {
   "cell_type": "markdown",
   "metadata": {},
   "source": [
    "# Faça um gráfico da diferença relativa no tamanho médio acumulado do pedido para o grupo B em comparação com o grupo A.\n",
    "# Faça conclusões e crie conjecturas."
   ]
  },
  {
   "cell_type": "code",
   "execution_count": 27,
   "metadata": {
    "scrolled": false
   },
   "outputs": [
    {
     "data": {
      "text/plain": [
       "<matplotlib.lines.Line2D at 0x21c003b02d0>"
      ]
     },
     "execution_count": 27,
     "metadata": {},
     "output_type": "execute_result"
    },
    {
     "data": {
      "image/png": "[encoded data removed]",
      "text/plain": [
       "<Figure size 1200x600 with 1 Axes>"
      ]
     },
     "metadata": {},
     "output_type": "display_data"
    }
   ],
   "source": [
    "# Construindo um gráfico que mostra a diferença relativa do volume médio de compra.\n",
    "merged_cumulative_revenue = cumulative_revenueA.merge(cumulative_revenueB , left_on='date', right_on='date', how='left', suffixes=['A', 'B'])\n",
    "\n",
    "plt.figure(figsize=(12, 6))\n",
    "plt.plot(merged_cumulative_revenue['date'], (merged_cumulative_revenue['revenueB']/merged_cumulative_revenue['ordersB'])/(merged_cumulative_revenue['revenueA']/merged_cumulative_revenue['ordersA'])-1)\n",
    "\n",
    "plt.axhline(y=0, color='black', linestyle='--')"
   ]
  },
  {
   "cell_type": "markdown",
   "metadata": {},
   "source": [
    "Conjecturas:\n",
    "- Os consumidores do grupo B podem ter comprado em maiores quantidades ou podem ter optado por produtos mais caros comparado com o grupo A.\n",
    "\n",
    "- Fatores externos como feriados, eventos especiais ou mudanças sazonais podem ter impactado as compras em momentos específicos.\n",
    "\n",
    "- A diferença relativa pode ser resultado da estrategia de marketing que foi aplicada ao grupo B em comparação com a estrategia aplicada ao grupo A\n",
    "\n",
    "- O grupo B pode ter recebido promoção que fizeram com que aumentasse o valor médio de pedidos.\n",
    "---\n",
    "# Conclusão:\n",
    "Podemos observar alterações consideraveis e repentinas, talvez possam estar ligadas a pedidos muito maiores que o padrão.\n"
   ]
  },
  {
   "cell_type": "markdown",
   "metadata": {},
   "source": [
    "# Calcule a taxa de conversão de cada grupo como a proporção de pedidos para o número de visitas para cada dia.\n",
    "# Trace as taxas de conversão diárias dos dois grupos e descreva a diferença. Tire conclusões e crie conjecturas. "
   ]
  },
  {
   "cell_type": "code",
   "execution_count": 28,
   "metadata": {},
   "outputs": [
    {
     "data": {
      "text/html": [
       "<div>\n",
       "<style scoped>\n",
       "    .dataframe tbody tr th:only-of-type {\n",
       "        vertical-align: middle;\n",
       "    }\n",
       "\n",
       "    .dataframe tbody tr th {\n",
       "        vertical-align: top;\n",
       "    }\n",
       "\n",
       "    .dataframe thead th {\n",
       "        text-align: right;\n",
       "    }\n",
       "</style>\n",
       "<table border=\"1\" class=\"dataframe\">\n",
       "  <thead>\n",
       "    <tr style=\"text-align: right;\">\n",
       "      <th></th>\n",
       "      <th>date</th>\n",
       "      <th>group</th>\n",
       "      <th>orders</th>\n",
       "      <th>buyers</th>\n",
       "      <th>revenue</th>\n",
       "      <th>visitors</th>\n",
       "    </tr>\n",
       "  </thead>\n",
       "  <tbody>\n",
       "    <tr>\n",
       "      <th>0</th>\n",
       "      <td>2019-08-01</td>\n",
       "      <td>A</td>\n",
       "      <td>24</td>\n",
       "      <td>20</td>\n",
       "      <td>2356.8</td>\n",
       "      <td>719</td>\n",
       "    </tr>\n",
       "    <tr>\n",
       "      <th>1</th>\n",
       "      <td>2019-08-01</td>\n",
       "      <td>B</td>\n",
       "      <td>21</td>\n",
       "      <td>20</td>\n",
       "      <td>1620.0</td>\n",
       "      <td>713</td>\n",
       "    </tr>\n",
       "    <tr>\n",
       "      <th>2</th>\n",
       "      <td>2019-08-02</td>\n",
       "      <td>A</td>\n",
       "      <td>44</td>\n",
       "      <td>38</td>\n",
       "      <td>3860.3</td>\n",
       "      <td>1338</td>\n",
       "    </tr>\n",
       "    <tr>\n",
       "      <th>3</th>\n",
       "      <td>2019-08-02</td>\n",
       "      <td>B</td>\n",
       "      <td>45</td>\n",
       "      <td>43</td>\n",
       "      <td>4243.8</td>\n",
       "      <td>1294</td>\n",
       "    </tr>\n",
       "    <tr>\n",
       "      <th>4</th>\n",
       "      <td>2019-08-03</td>\n",
       "      <td>A</td>\n",
       "      <td>68</td>\n",
       "      <td>62</td>\n",
       "      <td>5675.5</td>\n",
       "      <td>1845</td>\n",
       "    </tr>\n",
       "  </tbody>\n",
       "</table>\n",
       "</div>"
      ],
      "text/plain": [
       "        date group  orders  buyers  revenue  visitors\n",
       "0 2019-08-01     A      24      20   2356.8       719\n",
       "1 2019-08-01     B      21      20   1620.0       713\n",
       "2 2019-08-02     A      44      38   3860.3      1338\n",
       "3 2019-08-02     B      45      43   4243.8      1294\n",
       "4 2019-08-03     A      68      62   5675.5      1845"
      ]
     },
     "execution_count": 28,
     "metadata": {},
     "output_type": "execute_result"
    }
   ],
   "source": [
    "cumulative_data.head()"
   ]
  },
  {
   "cell_type": "code",
   "execution_count": 29,
   "metadata": {
    "scrolled": false
   },
   "outputs": [
    {
     "data": {
      "text/plain": [
       "<matplotlib.legend.Legend at 0x21c003b3f10>"
      ]
     },
     "execution_count": 29,
     "metadata": {},
     "output_type": "execute_result"
    },
    {
     "data": {
      "image/png": "[encoded data removed]",
      "text/plain": [
       "<Figure size 1200x600 with 1 Axes>"
      ]
     },
     "metadata": {},
     "output_type": "display_data"
    }
   ],
   "source": [
    "# Calculando a taxa de conversão\n",
    "cumulative_data['conversion'] = cumulative_data['orders']/cumulative_data['visitors']\n",
    "# Taxa de conversão do grupo A\n",
    "cumulative_dataA = cumulative_data[cumulative_data['group']=='A']\n",
    "# Taxa de conversão do grupo B\n",
    "cumulative_dataB = cumulative_data[cumulative_data['group']=='B']\n",
    "# Plotando gráfico da taxa de conversão por grupo\n",
    "plt.figure(figsize=(12, 6))\n",
    "plt.plot(cumulative_dataA['date'], cumulative_dataA['conversion'], label='A')\n",
    "plt.plot(cumulative_dataB['date'], cumulative_dataB['conversion'], label='B')\n",
    "\n",
    "plt.axis([pd.to_datetime('2019-08-01'), pd.to_datetime('2019-08-31'), 0, 0.05])\n",
    "plt.legend()"
   ]
  },
  {
   "cell_type": "markdown",
   "metadata": {},
   "source": [
    "Conjecturas:\n",
    "\n",
    "- Mudanças ou melhorias nos produtos ao grupo B podem ter contribuído para o aumento e estabilidade na taxa de conversão.\n",
    "\n",
    "- De acordo com a taxa de conversão podemos formar a ideia de que conseguimos fidelizar mais clientes do grupo B\n",
    "---\n",
    "# Conclusão:\n",
    "As estratégias iniciais do grupo A foram eficazes, mas ao longo do tempo as estratégias do grupo B mostraram-se ser mais eficazes e estaveis."
   ]
  },
  {
   "cell_type": "markdown",
   "metadata": {},
   "source": [
    "# Faça um gráfico da diferença relativa na conversão cumulativa para o grupo B em comparação com o grupo A.\n",
    "# Tire conclusões e crie conjecturas."
   ]
  },
  {
   "cell_type": "code",
   "execution_count": 30,
   "metadata": {
    "scrolled": false
   },
   "outputs": [
    {
     "data": {
      "text/plain": [
       "(18109.0, 18139.0, -0.5, 0.5)"
      ]
     },
     "execution_count": 30,
     "metadata": {},
     "output_type": "execute_result"
    },
    {
     "data": {
      "image/png": "[encoded data removed]",
      "text/plain": [
       "<Figure size 1000x500 with 1 Axes>"
      ]
     },
     "metadata": {},
     "output_type": "display_data"
    }
   ],
   "source": [
    "# Diferença relativa na conversão cumulativa ppara o grupo B em comparação com o A\n",
    "merged_cumulative_conversions = cumulative_dataA[['date', 'conversion']].merge(cumulative_dataB[['date', 'conversion']], left_on='date', right_on='date', how='left', suffixes=['A', 'B'])\n",
    "# Plotando o gráfico\n",
    "plt.figure(figsize=(10, 5))\n",
    "plt.plot(merged_cumulative_conversions['date'], merged_cumulative_conversions['conversionB']/merged_cumulative_conversions['conversionA']-1)\n",
    "# Modificando especificações no gráfico\n",
    "plt.axhline(y=0, color='black', linestyle='--')\n",
    "plt.axhline(y=0.2, color='grey', linestyle='--')\n",
    "plt.axis([pd.to_datetime('2019-08-01'), pd.to_datetime('2019-08-31'), -0.5, 0.5])"
   ]
  },
  {
   "cell_type": "markdown",
   "metadata": {},
   "source": [
    "Conjecturas:\n",
    "\n",
    "-  A taxa de conversão ainda não é estável mas podemos observsar um crescimento gradual.\n",
    "\n",
    "-  O grupo B teve um ganho constante e se estabilizou 15% acima do grupo A.\n",
    "---\n",
    "# Conclusão:\n",
    "O grupo B inicialmente estava para trás mas rapidamente conseguiu assumir a liderança, a sua conversão está oscilando mas no final começou a crescer gradualmente mas ainda devemos observar se existe alguma anomalia, para saber se houve alguma alteração de modo geral.\n"
   ]
  },
  {
   "cell_type": "code",
   "execution_count": 31,
   "metadata": {},
   "outputs": [
    {
     "name": "stdout",
     "output_type": "stream",
     "text": [
      "      visitor_id  transaction_id\n",
      "1023  4256040402              11\n",
      "591   2458001652              11\n",
      "569   2378935119               9\n",
      "487   2038680547               8\n",
      "44     199603092               5\n",
      "744   3062433592               5\n",
      "55     237748145               5\n",
      "917   3803269165               5\n",
      "299   1230306981               5\n",
      "897   3717692402               5\n"
     ]
    },
    {
     "data": {
      "text/plain": [
       "array([2., 4.])"
      ]
     },
     "execution_count": 31,
     "metadata": {},
     "output_type": "execute_result"
    }
   ],
   "source": [
    "# Calcule os percentis 95 e 99 para o número de pedidos por usuário. Defina o ponto em que um ponto de dados se torna uma anomalia.\n",
    "orders_by_users = (\n",
    "    df_orders.drop(['group', 'revenue', 'date'], axis=1)\n",
    "    .groupby('visitor_id', as_index=False)\n",
    "    .agg({'transaction_id': pd.Series.nunique})\n",
    ")\n",
    "orders_by_users.columns = ['visitor_id', 'transaction_id']\n",
    "\n",
    "print(orders_by_users.sort_values(by='transaction_id', ascending=False).head(10))\n",
    "\n",
    "np.percentile(orders_by_users['transaction_id'], [95, 99])"
   ]
  },
  {
   "cell_type": "markdown",
   "metadata": {},
   "source": [
    "OBS: Podemos definir o ponto em que os dados se torna anomalia os pedidos com valores superiores aos 95% dos pedidos por usuários"
   ]
  },
  {
   "cell_type": "code",
   "execution_count": 32,
   "metadata": {
    "scrolled": false
   },
   "outputs": [
    {
     "data": {
      "text/plain": [
       "<matplotlib.collections.PathCollection at 0x21c7fb83d90>"
      ]
     },
     "execution_count": 32,
     "metadata": {},
     "output_type": "execute_result"
    },
    {
     "data": {
      "image/png": "[encoded data removed]",
      "text/plain": [
       "<Figure size 640x480 with 1 Axes>"
      ]
     },
     "metadata": {},
     "output_type": "display_data"
    }
   ],
   "source": [
    "# Faça um gráfico de dispersão dos preços dos pedidos. Tire conclusões e crie conjecturas.\n",
    "df_orders.sort_values(by='revenue', ascending=False).head(10)\n",
    "\n",
    "x_values = pd.Series(range(0, len(df_orders['revenue'])))\n",
    "plt.scatter(x_values, df_orders['revenue'])"
   ]
  },
  {
   "cell_type": "markdown",
   "metadata": {},
   "source": [
    "Conclusão:\n",
    "Observando o gráfico podemos notar que a maioria dos dados se concentra abaixo de $5.000\n",
    "----\n",
    "Conjectura:\n",
    "\n",
    "-  O valor de $20.000 parece anormal"
   ]
  },
  {
   "cell_type": "code",
   "execution_count": 33,
   "metadata": {},
   "outputs": [
    {
     "data": {
      "text/plain": [
       "array([435.54 , 900.904])"
      ]
     },
     "execution_count": 33,
     "metadata": {},
     "output_type": "execute_result"
    }
   ],
   "source": [
    "# Calcule os percentis 95 e 99 dos preços dos pedidos. Defina o ponto em que um ponto de dados se torna uma anomalia.\n",
    "np.percentile(df_orders['revenue'], [95, 99])"
   ]
  },
  {
   "cell_type": "markdown",
   "metadata": {},
   "source": [
    "OBS: Podemos definir o ponto em que os dados se torna anomalia os pedidos com valores superiores aos 95% dos usuários."
   ]
  },
  {
   "cell_type": "code",
   "execution_count": 34,
   "metadata": {},
   "outputs": [
    {
     "name": "stdout",
     "output_type": "stream",
     "text": [
      "0.017\n",
      "0.138\n"
     ]
    }
   ],
   "source": [
    "# Encontre a significância estatística da diferença na conversão entre os grupos usando os dados brutos. Tire conclusões e crie conjecturas.\n",
    "\n",
    "orders_by_userA = df_orders[df_orders['group']=='A'].groupby('visitor_id', as_index=False).agg({'transaction_id' : pd.Series.nunique})\n",
    "orders_by_userA.columns = ['user_id', 'orders']\n",
    "\n",
    "orders_by_userB = df_orders[df_orders['group']=='B'].groupby('visitor_id', as_index=False).agg({'transaction_id' : pd.Series.nunique})\n",
    "orders_by_userB.columns = ['user_id', 'orders']\n",
    "\n",
    "sampleA = pd.concat([orders_by_userA['orders'], pd.Series(0, index=np.arange(df_visits[df_visits['group']=='A']['visits'].sum() - len(orders_by_userA['orders'])), name='orders')],axis=0)\n",
    "\n",
    "sampleB = pd.concat([orders_by_userB['orders'], pd.Series(0, index=np.arange(df_visits[df_visits['group']=='B']['visits'].sum() - len(orders_by_userB['orders'])), name='orders')],axis=0)\n",
    "\n",
    "print(\"{0:.3f}\".format(stats.mannwhitneyu(sampleA, sampleB)[1]))\n",
    "\n",
    "print(\"{0:.3f}\".format(sampleB.mean()/sampleA.mean()-1))"
   ]
  },
  {
   "cell_type": "markdown",
   "metadata": {},
   "source": [
    "Conjectura:\n",
    "\n",
    "-   Se foi testado mudanças no site, ou uma campanha da equipe de marketing nós podemos dizer que as mudanças tiveram um impacto positivo na taxa de conversão do grupo B.\n",
    "\n",
    "-  Podemos futuramente fazer entrevistas com usuários para saber qual mudança mais impactou no site para ele.\n",
    "---\n",
    "# Conclusão: \n",
    "Utilizando um p-valor abaixo de 0.05 é considerado estatisticamente significativo então podemos concluir que há uma diferença estatisticamente significativa na taxa de conversão entre os grupos A e B. O ganho de conversão relativo para o grupo B, comparado com o grupo A é de 13.8%. \n"
   ]
  },
  {
   "cell_type": "code",
   "execution_count": 35,
   "metadata": {},
   "outputs": [
    {
     "name": "stdout",
     "output_type": "stream",
     "text": [
      "0.692\n",
      "0.252\n"
     ]
    }
   ],
   "source": [
    "# Encontre a significância estatística da diferença no tamanho médio do pedido entre os grupos usando os dados brutos. Tire conclusões e crie conjecturas.\n",
    "print('{0:.3f}'.format(stats.mannwhitneyu(df_orders[df_orders['group']=='A']['revenue'], df_orders[df_orders['group']=='B']['revenue'])[1]))\n",
    "print('{0:.3f}'.format(df_orders[df_orders['group']=='B']['revenue'].mean()/df_orders[df_orders['group']=='A']['revenue'].mean()-1))"
   ]
  },
  {
   "cell_type": "markdown",
   "metadata": {},
   "source": [
    "Conjectura:\n",
    "\n",
    "-   Precisamos verificar se houve diferentes promoções, descontos ou feriados que pudessem influenciar o tamanho médio do pedido. \n",
    "---\n",
    "# Conclusão:\n",
    "O p-valor é maior do que 0.05, então não há diferença estatisticamente significativa entre os volumes médios de pedidos. A diferença relativa é de 25,2%"
   ]
  },
  {
   "cell_type": "code",
   "execution_count": 36,
   "metadata": {},
   "outputs": [
    {
     "name": "stdout",
     "output_type": "stream",
     "text": [
      "425    1920142716\n",
      "326    2378935119\n",
      "340    2458001652\n",
      "499    4256040402\n",
      "dtype: int64\n",
      "(4,)\n"
     ]
    }
   ],
   "source": [
    "# Criando os dados filtrados\n",
    "# Criando a variavel para usuários que fizeram pedidos superior a 5\n",
    "user_with_many_orders = pd.concat([orders_by_userA[orders_by_userA['orders'] > 5]['user_id'], orders_by_userB[orders_by_userB['orders'] > 4]['user_id']], axis = 0)\n",
    "# Criando a variavel para usuários que gastaram mais de $5000\n",
    "users_with_expensive_orders = df_orders[df_orders['revenue'] > 5000]['visitor_id']\n",
    "# Juntando as tabelas\n",
    "ab_normal_users = pd.concat([user_with_many_orders, users_with_expensive_orders], axis = 0).drop_duplicates().sort_values()\n",
    "\n",
    "print(ab_normal_users.head(5))\n",
    "print(ab_normal_users.shape)"
   ]
  },
  {
   "cell_type": "code",
   "execution_count": 37,
   "metadata": {},
   "outputs": [
    {
     "data": {
      "text/plain": [
       "425    1920142716\n",
       "326    2378935119\n",
       "340    2458001652\n",
       "499    4256040402\n",
       "dtype: int64"
      ]
     },
     "execution_count": 37,
     "metadata": {},
     "output_type": "execute_result"
    }
   ],
   "source": [
    "ab_normal_users.head()"
   ]
  },
  {
   "cell_type": "markdown",
   "metadata": {},
   "source": [
    "# Encontre a significância estatística da diferença na conversão entre os grupos usando os dados filtrados. Tire conclusões e crie conjecturas."
   ]
  },
  {
   "cell_type": "code",
   "execution_count": 38,
   "metadata": {},
   "outputs": [
    {
     "name": "stdout",
     "output_type": "stream",
     "text": [
      "0.01778\n",
      "0.143\n"
     ]
    }
   ],
   "source": [
    "sampleA_filtered = pd.concat([orders_by_userA[np.logical_not(orders_by_userA['user_id'].isin(ab_normal_users))]['orders'],pd.Series(0, index=np.arange(df_visits[df_visits['group']=='A']['visits'].sum() - len(orders_by_userA['orders'])),name='orders')],axis=0)\n",
    "\n",
    "sampleB_filtered = pd.concat([orders_by_userB[np.logical_not(orders_by_userB['user_id'].isin(ab_normal_users))]['orders'],pd.Series(0, index=np.arange(df_visits[df_visits['group']=='B']['visits'].sum() - len(orders_by_userB['orders'])),name='orders')],axis=0)\n",
    "\n",
    "print(\"{0:.5f}\".format(stats.mannwhitneyu(sampleA_filtered, sampleB_filtered)[1]))\n",
    "print(\"{0:.3f}\".format(sampleB_filtered.mean()/sampleA_filtered.mean()-1))"
   ]
  },
  {
   "cell_type": "markdown",
   "metadata": {},
   "source": [
    "Conjecturas:\n",
    "\n",
    "-  Se foi testado mudanças no site, ou uma campanha da equipe de marketing nós podemos dizer que as mudanças tiveram um impacto positivo na taxa de conversão do grupo B.\n",
    "\n",
    "-  Podemos futuramente fazer entrevistas com usuários para saber qual mudança mais impactou no site para ele.\n",
    "---\n",
    "# Conclusões:\n",
    "Os resultados relativos à conversão quase não mudaram.\n"
   ]
  },
  {
   "cell_type": "markdown",
   "metadata": {},
   "source": [
    "# Tome uma decisão com base nos resultados do teste. As decisões possíveis são:\n",
    "### 1. Pare o teste, considere um dos grupos o líder. \n",
    "### 2. Pare o teste, conclua que não há diferença entre os grupos. \n",
    "### 3. Continue o teste."
   ]
  },
  {
   "cell_type": "code",
   "execution_count": 39,
   "metadata": {},
   "outputs": [
    {
     "name": "stdout",
     "output_type": "stream",
     "text": [
      "0.922\n",
      "-0.0361\n"
     ]
    }
   ],
   "source": [
    "# Encontre a significância estatística da diferença no tamanho médio do pedido entre os grupos usando os dados filtrados. Tire conclusões e crie conjecturas.\n",
    "print('{0:.3f}'.format(stats.mannwhitneyu(\n",
    "    df_orders[np.logical_and(\n",
    "    df_orders['group']=='A',\n",
    "    np.logical_not(df_orders['visitor_id'].isin(ab_normal_users)))]['revenue'],\n",
    "    df_orders[np.logical_and(\n",
    "    df_orders['group']=='B',\n",
    "    np.logical_not(df_orders['visitor_id'].isin(ab_normal_users)))]['revenue'])[1]))\n",
    "\n",
    "print('{0:.3}'.format(\n",
    "    df_orders[np.logical_and(df_orders['group']=='B',np.logical_not(df_orders['visitor_id'].isin(ab_normal_users)))]['revenue'].mean()/\n",
    "    df_orders[np.logical_and(\n",
    "    df_orders['group']=='A',\n",
    "    np.logical_not(df_orders['visitor_id'].isin(ab_normal_users)))]['revenue'].mean() - 1 ))"
   ]
  },
  {
   "cell_type": "markdown",
   "metadata": {},
   "source": [
    "\n",
    "Conjecturas: \n",
    "-  Possibilidade de um novo teste já que a diferença estatistica não foi significativa, pode ser interessante realizar um novo teste com uma amostra maior e verificar se há diferenças.\n",
    "\n",
    "---\n",
    "# Conclusão: \n",
    "Como p-valor é 0.922, não rejeitamos a hipótese nula de que não há diferença no tamanho médio do pedido entre os grupos A e B após a remoção dos usuários considerados(anormais), também conseguimos obter dados que nos mostraram que a diferença no tamanho médio do pedido seja de -3.61%, essa diferença não é estatisticamente significativa e é pequena. \n"
   ]
  },
  {
   "cell_type": "markdown",
   "metadata": {},
   "source": [
    "# Justificativa:\n",
    " Baseado na análise feita e nos dados obtidos podemos dizer que não há motivos para considerar algum dos grupos o líder ja que não há uma diferença significativa. Diante desta conclusão podemos tomar algumas decisões a seguir como, análise de (UX) para nós ajudar a descobrir quais os problemas que os usuários estão enfrentando com o site, se existe algum detalhe na interface que não está satisfazendo os usuários, podemos também fazer entrevistas com grupos focais para sabermos o que poderia melhor e assim iniciar novos testes baseado nas opiniões dos usuários e uma entrevista de especialistas para realizar um estudo mais aprofundado no campo que está sendo estudado e ajudar a rejeitar qualquer hipótese que já foi formulada ou testada\n",
    "\n",
    "---\n",
    "# Conclusão:\n",
    " Pare o teste, conclua que não há diferença entre os grupos.\n"
   ]
  }
 ],
 "metadata": {
  "ExecuteTimeLog": [
   {
    "duration": 441,
    "start_time": "2024-06-19T02:02:49.885Z"
   },
   {
    "duration": 15,
    "start_time": "2024-06-19T02:04:17.188Z"
   },
   {
    "duration": 14,
    "start_time": "2024-06-19T02:04:20.797Z"
   },
   {
    "duration": 9,
    "start_time": "2024-06-19T02:04:29.370Z"
   },
   {
    "duration": 475,
    "start_time": "2024-06-19T20:36:57.072Z"
   },
   {
    "duration": 19,
    "start_time": "2024-06-19T20:36:57.551Z"
   },
   {
    "duration": 15,
    "start_time": "2024-06-19T20:37:03.511Z"
   },
   {
    "duration": 19,
    "start_time": "2024-06-19T20:37:21.009Z"
   },
   {
    "duration": 340,
    "start_time": "2024-06-19T20:37:35.559Z"
   },
   {
    "duration": 6,
    "start_time": "2024-06-19T20:37:58.710Z"
   },
   {
    "duration": 8,
    "start_time": "2024-06-19T20:43:00.827Z"
   },
   {
    "duration": 6,
    "start_time": "2024-06-19T20:43:03.466Z"
   },
   {
    "duration": 9,
    "start_time": "2024-06-19T20:43:12.456Z"
   },
   {
    "duration": 3,
    "start_time": "2024-06-19T20:43:46.519Z"
   },
   {
    "duration": 9,
    "start_time": "2024-06-19T20:43:47.191Z"
   },
   {
    "duration": 5,
    "start_time": "2024-06-19T20:43:52.701Z"
   },
   {
    "duration": 4,
    "start_time": "2024-06-19T20:48:21.173Z"
   },
   {
    "duration": 6,
    "start_time": "2024-06-19T20:48:21.561Z"
   },
   {
    "duration": 884,
    "start_time": "2024-06-19T20:50:02.664Z"
   },
   {
    "duration": 190,
    "start_time": "2024-06-19T20:50:32.470Z"
   },
   {
    "duration": 88,
    "start_time": "2024-06-19T20:51:07.906Z"
   },
   {
    "duration": 6,
    "start_time": "2024-06-19T20:52:03.459Z"
   },
   {
    "duration": 5,
    "start_time": "2024-06-19T20:52:08.617Z"
   },
   {
    "duration": 75,
    "start_time": "2024-06-19T20:52:10.821Z"
   },
   {
    "duration": 447,
    "start_time": "2024-06-19T20:52:18.873Z"
   },
   {
    "duration": 9,
    "start_time": "2024-06-19T20:52:19.323Z"
   },
   {
    "duration": 5,
    "start_time": "2024-06-19T20:52:19.335Z"
   },
   {
    "duration": 10,
    "start_time": "2024-06-19T20:52:19.345Z"
   },
   {
    "duration": 1196,
    "start_time": "2024-06-19T20:52:19.358Z"
   },
   {
    "duration": 6,
    "start_time": "2024-06-19T20:55:59.086Z"
   },
   {
    "duration": 8,
    "start_time": "2024-06-19T20:57:57.159Z"
   },
   {
    "duration": 7,
    "start_time": "2024-06-19T20:57:57.520Z"
   },
   {
    "duration": 5,
    "start_time": "2024-06-19T20:57:57.903Z"
   },
   {
    "duration": 27,
    "start_time": "2024-06-19T20:59:14.212Z"
   },
   {
    "duration": 9,
    "start_time": "2024-06-19T20:59:14.510Z"
   },
   {
    "duration": 5,
    "start_time": "2024-06-19T20:59:14.755Z"
   },
   {
    "duration": 95,
    "start_time": "2024-06-19T20:59:26.260Z"
   },
   {
    "duration": 75,
    "start_time": "2024-06-19T21:00:15.555Z"
   },
   {
    "duration": 6,
    "start_time": "2024-06-19T21:00:26.709Z"
   },
   {
    "duration": 27,
    "start_time": "2024-06-19T21:01:48.530Z"
   },
   {
    "duration": 11,
    "start_time": "2024-06-19T21:02:45.017Z"
   },
   {
    "duration": 5,
    "start_time": "2024-06-19T21:05:54.262Z"
   },
   {
    "duration": 25,
    "start_time": "2024-06-19T21:05:57.186Z"
   },
   {
    "duration": 6,
    "start_time": "2024-06-19T21:06:31.295Z"
   },
   {
    "duration": 30,
    "start_time": "2024-06-19T21:08:47.049Z"
   },
   {
    "duration": 15,
    "start_time": "2024-06-19T21:08:54.034Z"
   },
   {
    "duration": 6,
    "start_time": "2024-06-19T21:13:12.571Z"
   },
   {
    "duration": 7,
    "start_time": "2024-06-19T21:15:00.162Z"
   },
   {
    "duration": 7,
    "start_time": "2024-06-19T21:15:09.301Z"
   },
   {
    "duration": 6,
    "start_time": "2024-06-19T21:15:23.894Z"
   },
   {
    "duration": 7,
    "start_time": "2024-06-19T21:15:34.450Z"
   },
   {
    "duration": 16,
    "start_time": "2024-06-19T21:19:59.763Z"
   },
   {
    "duration": 15,
    "start_time": "2024-06-19T21:20:03.945Z"
   },
   {
    "duration": 3,
    "start_time": "2024-06-19T21:26:30.467Z"
   },
   {
    "duration": 3,
    "start_time": "2024-06-19T21:26:42.119Z"
   },
   {
    "duration": 15,
    "start_time": "2024-06-19T21:27:46.517Z"
   },
   {
    "duration": 6,
    "start_time": "2024-06-19T21:28:00.910Z"
   },
   {
    "duration": 8,
    "start_time": "2024-06-19T21:28:06.264Z"
   },
   {
    "duration": 7,
    "start_time": "2024-06-19T21:28:11.669Z"
   },
   {
    "duration": 7,
    "start_time": "2024-06-19T21:28:23.706Z"
   },
   {
    "duration": 9,
    "start_time": "2024-06-19T21:28:26.683Z"
   },
   {
    "duration": 8,
    "start_time": "2024-06-19T21:28:31.904Z"
   },
   {
    "duration": 7,
    "start_time": "2024-06-19T21:28:35.903Z"
   },
   {
    "duration": 16,
    "start_time": "2024-06-19T21:31:21.765Z"
   },
   {
    "duration": 15,
    "start_time": "2024-06-19T21:31:31.874Z"
   },
   {
    "duration": 27,
    "start_time": "2024-06-19T21:31:43.009Z"
   },
   {
    "duration": 3,
    "start_time": "2024-06-19T21:33:39.833Z"
   },
   {
    "duration": 8,
    "start_time": "2024-06-19T21:33:53.083Z"
   },
   {
    "duration": 427,
    "start_time": "2024-06-19T21:48:36.867Z"
   },
   {
    "duration": 15,
    "start_time": "2024-06-19T21:48:37.298Z"
   },
   {
    "duration": 5,
    "start_time": "2024-06-19T21:48:37.315Z"
   },
   {
    "duration": 5,
    "start_time": "2024-06-19T21:48:37.326Z"
   },
   {
    "duration": 27,
    "start_time": "2024-06-19T21:48:37.334Z"
   },
   {
    "duration": 54,
    "start_time": "2024-06-19T21:48:37.365Z"
   },
   {
    "duration": 7,
    "start_time": "2024-06-19T21:48:37.424Z"
   },
   {
    "duration": 9,
    "start_time": "2024-06-19T21:48:37.435Z"
   },
   {
    "duration": 7,
    "start_time": "2024-06-19T21:48:37.448Z"
   },
   {
    "duration": 53,
    "start_time": "2024-06-19T21:48:37.460Z"
   },
   {
    "duration": 4,
    "start_time": "2024-06-19T21:48:37.517Z"
   },
   {
    "duration": 4,
    "start_time": "2024-06-19T21:48:37.524Z"
   },
   {
    "duration": 6,
    "start_time": "2024-06-19T21:49:31.183Z"
   },
   {
    "duration": 6,
    "start_time": "2024-06-19T21:50:15.008Z"
   },
   {
    "duration": 346,
    "start_time": "2024-06-19T21:53:13.583Z"
   },
   {
    "duration": 3884,
    "start_time": "2024-06-19T21:53:24.269Z"
   },
   {
    "duration": 39,
    "start_time": "2024-06-19T21:53:29.364Z"
   },
   {
    "duration": 11,
    "start_time": "2024-06-19T21:53:42.769Z"
   },
   {
    "duration": 3,
    "start_time": "2024-06-19T21:53:48.679Z"
   },
   {
    "duration": 4,
    "start_time": "2024-06-19T21:59:25.928Z"
   },
   {
    "duration": 9,
    "start_time": "2024-06-19T22:26:27.183Z"
   },
   {
    "duration": 30,
    "start_time": "2024-06-19T22:27:40.850Z"
   },
   {
    "duration": 990,
    "start_time": "2024-06-19T22:28:03.898Z"
   },
   {
    "duration": 322,
    "start_time": "2024-06-19T22:28:13.411Z"
   },
   {
    "duration": 336,
    "start_time": "2024-06-19T22:33:43.249Z"
   },
   {
    "duration": 261,
    "start_time": "2024-06-19T22:33:55.042Z"
   },
   {
    "duration": 10,
    "start_time": "2024-06-19T22:34:44.263Z"
   },
   {
    "duration": 261,
    "start_time": "2024-06-19T22:34:58.529Z"
   },
   {
    "duration": 299,
    "start_time": "2024-06-19T22:35:16.165Z"
   },
   {
    "duration": 288,
    "start_time": "2024-06-19T22:35:23.296Z"
   },
   {
    "duration": 322,
    "start_time": "2024-06-19T22:35:28.712Z"
   },
   {
    "duration": 260,
    "start_time": "2024-06-19T22:35:38.069Z"
   },
   {
    "duration": 266,
    "start_time": "2024-06-19T22:35:42.647Z"
   },
   {
    "duration": 265,
    "start_time": "2024-06-19T22:35:51.550Z"
   },
   {
    "duration": 266,
    "start_time": "2024-06-19T22:36:03.421Z"
   },
   {
    "duration": 359,
    "start_time": "2024-06-19T22:36:08.895Z"
   },
   {
    "duration": 270,
    "start_time": "2024-06-19T22:36:45.913Z"
   },
   {
    "duration": 10,
    "start_time": "2024-06-19T22:37:29.828Z"
   },
   {
    "duration": 288,
    "start_time": "2024-06-19T22:38:19.180Z"
   },
   {
    "duration": 272,
    "start_time": "2024-06-19T22:38:28.160Z"
   },
   {
    "duration": 268,
    "start_time": "2024-06-19T22:38:59.393Z"
   },
   {
    "duration": 281,
    "start_time": "2024-06-19T22:39:04.031Z"
   },
   {
    "duration": 285,
    "start_time": "2024-06-19T22:39:23.776Z"
   },
   {
    "duration": 271,
    "start_time": "2024-06-19T22:39:48.041Z"
   },
   {
    "duration": 271,
    "start_time": "2024-06-19T22:39:54.671Z"
   },
   {
    "duration": 280,
    "start_time": "2024-06-19T22:40:29.504Z"
   },
   {
    "duration": 10,
    "start_time": "2024-06-19T22:41:16.495Z"
   },
   {
    "duration": 259,
    "start_time": "2024-06-19T22:41:49.325Z"
   },
   {
    "duration": 278,
    "start_time": "2024-06-19T22:42:06.485Z"
   },
   {
    "duration": 275,
    "start_time": "2024-06-19T22:42:47.600Z"
   },
   {
    "duration": 261,
    "start_time": "2024-06-19T22:43:29.534Z"
   },
   {
    "duration": 276,
    "start_time": "2024-06-19T22:43:42.902Z"
   },
   {
    "duration": 265,
    "start_time": "2024-06-19T22:44:11.453Z"
   },
   {
    "duration": 272,
    "start_time": "2024-06-19T22:44:27.628Z"
   },
   {
    "duration": 286,
    "start_time": "2024-06-19T22:44:38.890Z"
   },
   {
    "duration": 702,
    "start_time": "2024-06-19T22:44:51.405Z"
   },
   {
    "duration": 55,
    "start_time": "2024-06-19T22:44:52.113Z"
   },
   {
    "duration": 5,
    "start_time": "2024-06-19T22:44:52.171Z"
   },
   {
    "duration": 6,
    "start_time": "2024-06-19T22:44:52.180Z"
   },
   {
    "duration": 19,
    "start_time": "2024-06-19T22:44:52.214Z"
   },
   {
    "duration": 17,
    "start_time": "2024-06-19T22:44:52.236Z"
   },
   {
    "duration": 11,
    "start_time": "2024-06-19T22:44:52.259Z"
   },
   {
    "duration": 326,
    "start_time": "2024-06-19T22:44:52.273Z"
   },
   {
    "duration": 20,
    "start_time": "2024-06-19T22:44:52.602Z"
   },
   {
    "duration": 309,
    "start_time": "2024-06-19T22:44:52.626Z"
   },
   {
    "duration": 14,
    "start_time": "2024-06-19T22:44:52.938Z"
   },
   {
    "duration": 324,
    "start_time": "2024-06-19T22:44:52.957Z"
   },
   {
    "duration": 11,
    "start_time": "2024-06-19T22:44:53.284Z"
   },
   {
    "duration": 297,
    "start_time": "2024-06-19T22:44:53.318Z"
   },
   {
    "duration": 7,
    "start_time": "2024-06-19T22:44:53.618Z"
   },
   {
    "duration": 8,
    "start_time": "2024-06-19T22:44:53.628Z"
   },
   {
    "duration": 271,
    "start_time": "2024-06-19T22:45:26.206Z"
   },
   {
    "duration": 272,
    "start_time": "2024-06-19T22:45:49.344Z"
   },
   {
    "duration": 288,
    "start_time": "2024-06-19T22:46:08.924Z"
   },
   {
    "duration": 13,
    "start_time": "2024-06-19T22:47:46.518Z"
   },
   {
    "duration": 11,
    "start_time": "2024-06-19T22:48:06.256Z"
   },
   {
    "duration": 9,
    "start_time": "2024-06-19T22:48:35.528Z"
   },
   {
    "duration": 7,
    "start_time": "2024-06-19T22:48:35.665Z"
   },
   {
    "duration": 14,
    "start_time": "2024-06-19T22:49:33.518Z"
   },
   {
    "duration": 15,
    "start_time": "2024-06-19T22:49:42.012Z"
   },
   {
    "duration": 13,
    "start_time": "2024-06-19T22:57:04.540Z"
   },
   {
    "duration": 14,
    "start_time": "2024-06-19T22:57:07.474Z"
   },
   {
    "duration": 14,
    "start_time": "2024-06-19T22:57:11.585Z"
   },
   {
    "duration": 14,
    "start_time": "2024-06-19T22:57:59.292Z"
   },
   {
    "duration": 11,
    "start_time": "2024-06-19T22:58:09.199Z"
   },
   {
    "duration": 9,
    "start_time": "2024-06-19T22:58:37.420Z"
   },
   {
    "duration": 15,
    "start_time": "2024-06-19T22:58:40.357Z"
   },
   {
    "duration": 12,
    "start_time": "2024-06-19T22:58:40.720Z"
   },
   {
    "duration": 5,
    "start_time": "2024-06-19T23:01:55.232Z"
   },
   {
    "duration": 15,
    "start_time": "2024-06-19T23:01:56.769Z"
   },
   {
    "duration": 14,
    "start_time": "2024-06-19T23:01:57.101Z"
   },
   {
    "duration": 5,
    "start_time": "2024-06-19T23:02:30.848Z"
   },
   {
    "duration": 14,
    "start_time": "2024-06-19T23:02:31.183Z"
   },
   {
    "duration": 13,
    "start_time": "2024-06-19T23:02:31.791Z"
   },
   {
    "duration": 468,
    "start_time": "2024-06-19T23:04:53.446Z"
   },
   {
    "duration": 15,
    "start_time": "2024-06-19T23:04:54.074Z"
   },
   {
    "duration": 697,
    "start_time": "2024-06-19T23:05:07.039Z"
   },
   {
    "duration": 17,
    "start_time": "2024-06-19T23:05:42.392Z"
   },
   {
    "duration": 5,
    "start_time": "2024-06-19T23:05:49.794Z"
   },
   {
    "duration": 15,
    "start_time": "2024-06-19T23:05:50.573Z"
   },
   {
    "duration": 6,
    "start_time": "2024-06-19T23:06:58.708Z"
   },
   {
    "duration": 17,
    "start_time": "2024-06-19T23:07:01.615Z"
   },
   {
    "duration": 16,
    "start_time": "2024-06-19T23:07:04.447Z"
   },
   {
    "duration": 577,
    "start_time": "2024-06-19T23:07:20.693Z"
   },
   {
    "duration": 5,
    "start_time": "2024-06-19T23:07:32.198Z"
   },
   {
    "duration": 5,
    "start_time": "2024-06-19T23:09:42.241Z"
   },
   {
    "duration": 15,
    "start_time": "2024-06-19T23:09:42.783Z"
   },
   {
    "duration": 7,
    "start_time": "2024-06-19T23:09:54.257Z"
   },
   {
    "duration": 7,
    "start_time": "2024-06-19T23:11:00.362Z"
   },
   {
    "duration": 5,
    "start_time": "2024-06-19T23:11:01.311Z"
   },
   {
    "duration": 15,
    "start_time": "2024-06-19T23:11:01.827Z"
   },
   {
    "duration": 13,
    "start_time": "2024-06-19T23:11:02.407Z"
   },
   {
    "duration": 4,
    "start_time": "2024-06-19T23:11:40.664Z"
   },
   {
    "duration": 5,
    "start_time": "2024-06-19T23:11:41.236Z"
   },
   {
    "duration": 19,
    "start_time": "2024-06-19T23:11:41.549Z"
   },
   {
    "duration": 13,
    "start_time": "2024-06-19T23:11:42.241Z"
   },
   {
    "duration": 14,
    "start_time": "2024-06-19T23:11:47.263Z"
   },
   {
    "duration": 11,
    "start_time": "2024-06-19T23:11:49.332Z"
   },
   {
    "duration": 5,
    "start_time": "2024-06-19T23:12:36.585Z"
   },
   {
    "duration": 5,
    "start_time": "2024-06-19T23:12:47.907Z"
   },
   {
    "duration": 4,
    "start_time": "2024-06-19T23:13:00.340Z"
   },
   {
    "duration": 15,
    "start_time": "2024-06-19T23:14:15.535Z"
   },
   {
    "duration": 13,
    "start_time": "2024-06-19T23:14:22.417Z"
   },
   {
    "duration": 16,
    "start_time": "2024-06-19T23:14:31.045Z"
   },
   {
    "duration": 11,
    "start_time": "2024-06-19T23:14:38.352Z"
   },
   {
    "duration": 6,
    "start_time": "2024-06-19T23:16:08.387Z"
   },
   {
    "duration": 7,
    "start_time": "2024-06-19T23:16:49.364Z"
   },
   {
    "duration": 7,
    "start_time": "2024-06-19T23:20:27.535Z"
   },
   {
    "duration": 4333,
    "start_time": "2024-06-20T18:07:16.612Z"
   },
   {
    "duration": 21,
    "start_time": "2024-06-20T18:07:20.949Z"
   },
   {
    "duration": 17,
    "start_time": "2024-06-20T18:07:20.972Z"
   },
   {
    "duration": 15,
    "start_time": "2024-06-20T18:07:20.992Z"
   },
   {
    "duration": 6,
    "start_time": "2024-06-20T18:07:21.012Z"
   },
   {
    "duration": 4,
    "start_time": "2024-06-20T18:07:21.021Z"
   },
   {
    "duration": 6,
    "start_time": "2024-06-20T18:07:21.033Z"
   },
   {
    "duration": 6,
    "start_time": "2024-06-20T18:07:21.043Z"
   },
   {
    "duration": 17,
    "start_time": "2024-06-20T18:07:21.051Z"
   },
   {
    "duration": 18,
    "start_time": "2024-06-20T18:07:21.071Z"
   },
   {
    "duration": 45,
    "start_time": "2024-06-20T18:07:21.094Z"
   },
   {
    "duration": 16,
    "start_time": "2024-06-20T18:07:21.145Z"
   },
   {
    "duration": 15,
    "start_time": "2024-06-20T18:07:21.169Z"
   },
   {
    "duration": 16,
    "start_time": "2024-06-20T18:07:21.190Z"
   },
   {
    "duration": 28,
    "start_time": "2024-06-20T18:07:21.209Z"
   },
   {
    "duration": 289,
    "start_time": "2024-06-20T18:07:21.242Z"
   },
   {
    "duration": 9,
    "start_time": "2024-06-20T18:07:21.534Z"
   },
   {
    "duration": 293,
    "start_time": "2024-06-20T18:07:21.545Z"
   },
   {
    "duration": 14,
    "start_time": "2024-06-20T18:07:21.842Z"
   },
   {
    "duration": 293,
    "start_time": "2024-06-20T18:07:21.862Z"
   },
   {
    "duration": 15,
    "start_time": "2024-06-20T18:07:22.158Z"
   },
   {
    "duration": 280,
    "start_time": "2024-06-20T18:07:22.176Z"
   },
   {
    "duration": 3,
    "start_time": "2024-06-20T18:07:22.465Z"
   },
   {
    "duration": 5,
    "start_time": "2024-06-20T18:07:22.471Z"
   },
   {
    "duration": 434,
    "start_time": "2024-06-20T18:08:26.214Z"
   },
   {
    "duration": 16,
    "start_time": "2024-06-20T18:08:31.066Z"
   },
   {
    "duration": 16,
    "start_time": "2024-06-20T18:08:39.643Z"
   },
   {
    "duration": 29,
    "start_time": "2024-06-20T18:15:14.622Z"
   },
   {
    "duration": 14,
    "start_time": "2024-06-20T18:15:37.639Z"
   },
   {
    "duration": 26,
    "start_time": "2024-06-20T18:19:21.609Z"
   },
   {
    "duration": 32,
    "start_time": "2024-06-20T18:27:20.676Z"
   },
   {
    "duration": 305,
    "start_time": "2024-06-20T18:27:33.484Z"
   },
   {
    "duration": 326,
    "start_time": "2024-06-20T18:27:49.153Z"
   },
   {
    "duration": 349,
    "start_time": "2024-06-20T18:27:58.226Z"
   },
   {
    "duration": 303,
    "start_time": "2024-06-20T18:28:00.715Z"
   },
   {
    "duration": 25,
    "start_time": "2024-06-20T18:41:24.543Z"
   },
   {
    "duration": 294,
    "start_time": "2024-06-20T18:41:25.362Z"
   },
   {
    "duration": 24,
    "start_time": "2024-06-20T18:42:51.546Z"
   },
   {
    "duration": 674,
    "start_time": "2024-06-20T18:45:02.051Z"
   },
   {
    "duration": 4,
    "start_time": "2024-06-20T18:45:14.935Z"
   },
   {
    "duration": 288,
    "start_time": "2024-06-20T18:45:19.575Z"
   },
   {
    "duration": 635,
    "start_time": "2024-06-20T18:46:59.138Z"
   },
   {
    "duration": 659,
    "start_time": "2024-06-20T18:47:16.422Z"
   },
   {
    "duration": 25,
    "start_time": "2024-06-20T18:47:19.444Z"
   },
   {
    "duration": 305,
    "start_time": "2024-06-20T18:47:19.943Z"
   },
   {
    "duration": 634,
    "start_time": "2024-06-20T18:48:43.869Z"
   },
   {
    "duration": 676,
    "start_time": "2024-06-20T18:54:56.636Z"
   },
   {
    "duration": 59,
    "start_time": "2024-06-20T18:54:57.316Z"
   },
   {
    "duration": 12,
    "start_time": "2024-06-20T18:54:57.378Z"
   },
   {
    "duration": 9,
    "start_time": "2024-06-20T18:54:57.392Z"
   },
   {
    "duration": 26,
    "start_time": "2024-06-20T18:54:57.405Z"
   },
   {
    "duration": 6,
    "start_time": "2024-06-20T18:54:57.434Z"
   },
   {
    "duration": 5,
    "start_time": "2024-06-20T18:54:57.443Z"
   },
   {
    "duration": 5,
    "start_time": "2024-06-20T18:54:57.451Z"
   },
   {
    "duration": 19,
    "start_time": "2024-06-20T18:54:57.461Z"
   },
   {
    "duration": 64,
    "start_time": "2024-06-20T18:54:57.483Z"
   },
   {
    "duration": 14,
    "start_time": "2024-06-20T18:54:57.550Z"
   },
   {
    "duration": 12,
    "start_time": "2024-06-20T18:54:57.566Z"
   },
   {
    "duration": 59,
    "start_time": "2024-06-20T18:54:57.580Z"
   },
   {
    "duration": 16,
    "start_time": "2024-06-20T18:54:57.644Z"
   },
   {
    "duration": 10,
    "start_time": "2024-06-20T18:54:57.663Z"
   },
   {
    "duration": 308,
    "start_time": "2024-06-20T18:54:57.676Z"
   },
   {
    "duration": 10,
    "start_time": "2024-06-20T18:54:57.987Z"
   },
   {
    "duration": 297,
    "start_time": "2024-06-20T18:54:58.001Z"
   },
   {
    "duration": 10,
    "start_time": "2024-06-20T18:54:58.301Z"
   },
   {
    "duration": 293,
    "start_time": "2024-06-20T18:54:58.314Z"
   },
   {
    "duration": 19,
    "start_time": "2024-06-20T18:54:58.613Z"
   },
   {
    "duration": 270,
    "start_time": "2024-06-20T18:54:58.635Z"
   },
   {
    "duration": 5,
    "start_time": "2024-06-20T18:54:58.908Z"
   },
   {
    "duration": 11,
    "start_time": "2024-06-20T18:54:58.919Z"
   },
   {
    "duration": 15,
    "start_time": "2024-06-20T18:54:58.934Z"
   },
   {
    "duration": 13,
    "start_time": "2024-06-20T18:54:58.951Z"
   },
   {
    "duration": 65,
    "start_time": "2024-06-20T18:54:58.969Z"
   },
   {
    "duration": 310,
    "start_time": "2024-06-20T18:54:59.037Z"
   },
   {
    "duration": 1193,
    "start_time": "2024-06-20T19:01:00.344Z"
   },
   {
    "duration": 3,
    "start_time": "2024-06-20T19:01:28.818Z"
   },
   {
    "duration": 8,
    "start_time": "2024-06-20T19:01:29.157Z"
   },
   {
    "duration": 9,
    "start_time": "2024-06-20T19:01:29.321Z"
   },
   {
    "duration": 7,
    "start_time": "2024-06-20T19:01:29.506Z"
   },
   {
    "duration": 4,
    "start_time": "2024-06-20T19:01:30.009Z"
   },
   {
    "duration": 5,
    "start_time": "2024-06-20T19:01:30.157Z"
   },
   {
    "duration": 4,
    "start_time": "2024-06-20T19:01:31.108Z"
   },
   {
    "duration": 4,
    "start_time": "2024-06-20T19:01:31.296Z"
   },
   {
    "duration": 17,
    "start_time": "2024-06-20T19:01:31.458Z"
   },
   {
    "duration": 13,
    "start_time": "2024-06-20T19:01:31.633Z"
   },
   {
    "duration": 14,
    "start_time": "2024-06-20T19:01:32.442Z"
   },
   {
    "duration": 11,
    "start_time": "2024-06-20T19:01:33.019Z"
   },
   {
    "duration": 73,
    "start_time": "2024-06-20T19:01:35.153Z"
   },
   {
    "duration": 81,
    "start_time": "2024-06-20T19:02:32.635Z"
   },
   {
    "duration": 23,
    "start_time": "2024-06-20T19:02:50.135Z"
   },
   {
    "duration": 16,
    "start_time": "2024-06-20T19:04:34.213Z"
   },
   {
    "duration": 15,
    "start_time": "2024-06-20T19:06:16.940Z"
   },
   {
    "duration": 10,
    "start_time": "2024-06-20T19:06:23.859Z"
   },
   {
    "duration": 25,
    "start_time": "2024-06-20T19:07:07.775Z"
   },
   {
    "duration": 25,
    "start_time": "2024-06-20T19:07:25.771Z"
   },
   {
    "duration": 27,
    "start_time": "2024-06-20T19:07:48.389Z"
   },
   {
    "duration": 20,
    "start_time": "2024-06-20T19:07:58.001Z"
   },
   {
    "duration": 4,
    "start_time": "2024-06-20T19:08:23.287Z"
   },
   {
    "duration": 8,
    "start_time": "2024-06-20T19:08:23.613Z"
   },
   {
    "duration": 11,
    "start_time": "2024-06-20T19:08:23.789Z"
   },
   {
    "duration": 8,
    "start_time": "2024-06-20T19:08:23.966Z"
   },
   {
    "duration": 5,
    "start_time": "2024-06-20T19:08:24.497Z"
   },
   {
    "duration": 5,
    "start_time": "2024-06-20T19:08:24.666Z"
   },
   {
    "duration": 3,
    "start_time": "2024-06-20T19:08:25.007Z"
   },
   {
    "duration": 4,
    "start_time": "2024-06-20T19:08:25.191Z"
   },
   {
    "duration": 14,
    "start_time": "2024-06-20T19:08:25.364Z"
   },
   {
    "duration": 13,
    "start_time": "2024-06-20T19:08:25.558Z"
   },
   {
    "duration": 15,
    "start_time": "2024-06-20T19:08:25.914Z"
   },
   {
    "duration": 11,
    "start_time": "2024-06-20T19:08:26.079Z"
   },
   {
    "duration": 27,
    "start_time": "2024-06-20T19:08:26.250Z"
   },
   {
    "duration": 19,
    "start_time": "2024-06-20T19:08:26.972Z"
   },
   {
    "duration": 16,
    "start_time": "2024-06-20T19:08:30.607Z"
   },
   {
    "duration": 15,
    "start_time": "2024-06-20T19:08:31.402Z"
   },
   {
    "duration": 10,
    "start_time": "2024-06-20T19:08:32.692Z"
   },
   {
    "duration": 260,
    "start_time": "2024-06-20T19:08:33.090Z"
   },
   {
    "duration": 10,
    "start_time": "2024-06-20T19:08:34.095Z"
   },
   {
    "duration": 351,
    "start_time": "2024-06-20T19:08:34.723Z"
   },
   {
    "duration": 10,
    "start_time": "2024-06-20T19:08:35.867Z"
   },
   {
    "duration": 272,
    "start_time": "2024-06-20T19:08:36.467Z"
   },
   {
    "duration": 10,
    "start_time": "2024-06-20T19:08:37.662Z"
   },
   {
    "duration": 250,
    "start_time": "2024-06-20T19:08:38.468Z"
   },
   {
    "duration": 3,
    "start_time": "2024-06-20T19:08:39.682Z"
   },
   {
    "duration": 3,
    "start_time": "2024-06-20T19:08:40.678Z"
   },
   {
    "duration": 12,
    "start_time": "2024-06-20T19:08:52.883Z"
   },
   {
    "duration": 10,
    "start_time": "2024-06-20T19:09:00.246Z"
   },
   {
    "duration": 25,
    "start_time": "2024-06-20T19:09:47.214Z"
   },
   {
    "duration": 334,
    "start_time": "2024-06-20T19:09:56.217Z"
   },
   {
    "duration": 24,
    "start_time": "2024-06-20T19:14:22.244Z"
   },
   {
    "duration": 25,
    "start_time": "2024-06-20T19:14:28.727Z"
   },
   {
    "duration": 328,
    "start_time": "2024-06-20T19:14:31.120Z"
   },
   {
    "duration": 743,
    "start_time": "2024-06-20T19:18:59.723Z"
   },
   {
    "duration": 62,
    "start_time": "2024-06-20T19:19:00.470Z"
   },
   {
    "duration": 13,
    "start_time": "2024-06-20T19:19:00.535Z"
   },
   {
    "duration": 9,
    "start_time": "2024-06-20T19:19:00.552Z"
   },
   {
    "duration": 4,
    "start_time": "2024-06-20T19:19:00.564Z"
   },
   {
    "duration": 6,
    "start_time": "2024-06-20T19:19:00.571Z"
   },
   {
    "duration": 4,
    "start_time": "2024-06-20T19:19:00.580Z"
   },
   {
    "duration": 46,
    "start_time": "2024-06-20T19:19:00.587Z"
   },
   {
    "duration": 15,
    "start_time": "2024-06-20T19:19:00.636Z"
   },
   {
    "duration": 18,
    "start_time": "2024-06-20T19:19:00.657Z"
   },
   {
    "duration": 57,
    "start_time": "2024-06-20T19:19:00.678Z"
   },
   {
    "duration": 12,
    "start_time": "2024-06-20T19:19:00.739Z"
   },
   {
    "duration": 35,
    "start_time": "2024-06-20T19:19:00.754Z"
   },
   {
    "duration": 55,
    "start_time": "2024-06-20T19:19:00.792Z"
   },
   {
    "duration": 18,
    "start_time": "2024-06-20T19:19:00.850Z"
   },
   {
    "duration": 16,
    "start_time": "2024-06-20T19:19:00.872Z"
   },
   {
    "duration": 47,
    "start_time": "2024-06-20T19:19:00.891Z"
   },
   {
    "duration": 316,
    "start_time": "2024-06-20T19:19:00.941Z"
   },
   {
    "duration": 14,
    "start_time": "2024-06-20T19:19:01.260Z"
   },
   {
    "duration": 307,
    "start_time": "2024-06-20T19:19:01.277Z"
   },
   {
    "duration": 10,
    "start_time": "2024-06-20T19:19:01.587Z"
   },
   {
    "duration": 341,
    "start_time": "2024-06-20T19:19:01.600Z"
   },
   {
    "duration": 11,
    "start_time": "2024-06-20T19:19:01.945Z"
   },
   {
    "duration": 345,
    "start_time": "2024-06-20T19:19:01.959Z"
   },
   {
    "duration": 3,
    "start_time": "2024-06-20T19:19:02.307Z"
   },
   {
    "duration": 27,
    "start_time": "2024-06-20T19:19:02.314Z"
   },
   {
    "duration": 14,
    "start_time": "2024-06-20T19:19:02.344Z"
   },
   {
    "duration": 15,
    "start_time": "2024-06-20T19:19:02.367Z"
   },
   {
    "duration": 55,
    "start_time": "2024-06-20T19:19:02.386Z"
   },
   {
    "duration": 363,
    "start_time": "2024-06-20T19:19:02.444Z"
   },
   {
    "duration": 21,
    "start_time": "2024-06-20T19:37:24.731Z"
   },
   {
    "duration": 577,
    "start_time": "2024-06-20T19:37:32.433Z"
   },
   {
    "duration": 21,
    "start_time": "2024-06-20T19:37:38.964Z"
   },
   {
    "duration": 8,
    "start_time": "2024-06-20T19:48:28.467Z"
   },
   {
    "duration": 7,
    "start_time": "2024-06-20T19:48:33.789Z"
   },
   {
    "duration": 13,
    "start_time": "2024-06-20T19:48:45.093Z"
   },
   {
    "duration": 36,
    "start_time": "2024-06-20T19:54:32.878Z"
   },
   {
    "duration": 844,
    "start_time": "2024-06-20T19:59:15.145Z"
   },
   {
    "duration": 305,
    "start_time": "2024-06-20T19:59:49.419Z"
   },
   {
    "duration": 297,
    "start_time": "2024-06-20T20:58:13.325Z"
   },
   {
    "duration": 4,
    "start_time": "2024-06-20T20:58:30.183Z"
   },
   {
    "duration": 10,
    "start_time": "2024-06-20T20:58:30.901Z"
   },
   {
    "duration": 11,
    "start_time": "2024-06-20T20:58:31.231Z"
   },
   {
    "duration": 67,
    "start_time": "2024-06-20T20:58:32.483Z"
   },
   {
    "duration": 9,
    "start_time": "2024-06-20T20:58:52.425Z"
   },
   {
    "duration": 4,
    "start_time": "2024-06-20T20:58:53.411Z"
   },
   {
    "duration": 5,
    "start_time": "2024-06-20T20:58:53.667Z"
   },
   {
    "duration": 5,
    "start_time": "2024-06-20T20:58:55.066Z"
   },
   {
    "duration": 4,
    "start_time": "2024-06-20T20:58:55.960Z"
   },
   {
    "duration": 14,
    "start_time": "2024-06-20T20:58:56.713Z"
   },
   {
    "duration": 14,
    "start_time": "2024-06-20T20:58:57.823Z"
   },
   {
    "duration": 64,
    "start_time": "2024-06-20T20:59:02.502Z"
   },
   {
    "duration": 193,
    "start_time": "2024-06-20T21:00:02.180Z"
   },
   {
    "duration": 10,
    "start_time": "2024-06-20T21:00:18.073Z"
   },
   {
    "duration": 687,
    "start_time": "2024-06-20T21:00:24.414Z"
   },
   {
    "duration": 62,
    "start_time": "2024-06-20T21:00:25.104Z"
   },
   {
    "duration": 11,
    "start_time": "2024-06-20T21:00:25.169Z"
   },
   {
    "duration": 8,
    "start_time": "2024-06-20T21:00:25.182Z"
   },
   {
    "duration": 4,
    "start_time": "2024-06-20T21:00:25.195Z"
   },
   {
    "duration": 32,
    "start_time": "2024-06-20T21:00:25.202Z"
   },
   {
    "duration": 4,
    "start_time": "2024-06-20T21:00:25.238Z"
   },
   {
    "duration": 5,
    "start_time": "2024-06-20T21:00:25.246Z"
   },
   {
    "duration": 15,
    "start_time": "2024-06-20T21:00:25.255Z"
   },
   {
    "duration": 63,
    "start_time": "2024-06-20T21:00:25.272Z"
   },
   {
    "duration": 14,
    "start_time": "2024-06-20T21:00:25.338Z"
   },
   {
    "duration": 11,
    "start_time": "2024-06-20T21:00:25.354Z"
   },
   {
    "duration": 74,
    "start_time": "2024-06-20T21:00:25.369Z"
   },
   {
    "duration": 25,
    "start_time": "2024-06-20T21:00:25.449Z"
   },
   {
    "duration": 18,
    "start_time": "2024-06-20T21:00:25.477Z"
   },
   {
    "duration": 16,
    "start_time": "2024-06-20T21:00:25.530Z"
   },
   {
    "duration": 9,
    "start_time": "2024-06-20T21:00:25.549Z"
   },
   {
    "duration": 308,
    "start_time": "2024-06-20T21:00:25.561Z"
   },
   {
    "duration": 10,
    "start_time": "2024-06-20T21:00:25.872Z"
   },
   {
    "duration": 305,
    "start_time": "2024-06-20T21:00:25.886Z"
   },
   {
    "duration": 10,
    "start_time": "2024-06-20T21:00:26.194Z"
   },
   {
    "duration": 281,
    "start_time": "2024-06-20T21:00:26.207Z"
   },
   {
    "duration": 10,
    "start_time": "2024-06-20T21:00:26.490Z"
   },
   {
    "duration": 304,
    "start_time": "2024-06-20T21:00:26.504Z"
   },
   {
    "duration": 4,
    "start_time": "2024-06-20T21:00:26.811Z"
   },
   {
    "duration": 3,
    "start_time": "2024-06-20T21:00:26.830Z"
   },
   {
    "duration": 13,
    "start_time": "2024-06-20T21:00:26.836Z"
   },
   {
    "duration": 11,
    "start_time": "2024-06-20T21:00:26.852Z"
   },
   {
    "duration": 67,
    "start_time": "2024-06-20T21:00:26.866Z"
   },
   {
    "duration": 337,
    "start_time": "2024-06-20T21:00:26.935Z"
   },
   {
    "duration": 37,
    "start_time": "2024-06-20T21:00:27.275Z"
   },
   {
    "duration": 312,
    "start_time": "2024-06-20T21:00:27.331Z"
   },
   {
    "duration": 4,
    "start_time": "2024-06-20T21:00:27.647Z"
   },
   {
    "duration": 689,
    "start_time": "2024-06-20T21:50:42.844Z"
   },
   {
    "duration": 59,
    "start_time": "2024-06-20T21:50:43.536Z"
   },
   {
    "duration": 13,
    "start_time": "2024-06-20T21:50:43.598Z"
   },
   {
    "duration": 23,
    "start_time": "2024-06-20T21:50:43.614Z"
   },
   {
    "duration": 5,
    "start_time": "2024-06-20T21:50:43.643Z"
   },
   {
    "duration": 5,
    "start_time": "2024-06-20T21:50:43.651Z"
   },
   {
    "duration": 6,
    "start_time": "2024-06-20T21:50:43.659Z"
   },
   {
    "duration": 10,
    "start_time": "2024-06-20T21:50:43.668Z"
   },
   {
    "duration": 64,
    "start_time": "2024-06-20T21:50:43.681Z"
   },
   {
    "duration": 19,
    "start_time": "2024-06-20T21:50:43.748Z"
   },
   {
    "duration": 15,
    "start_time": "2024-06-20T21:50:43.769Z"
   },
   {
    "duration": 45,
    "start_time": "2024-06-20T21:50:43.787Z"
   },
   {
    "duration": 17,
    "start_time": "2024-06-20T21:50:43.835Z"
   },
   {
    "duration": 15,
    "start_time": "2024-06-20T21:50:43.858Z"
   },
   {
    "duration": 10,
    "start_time": "2024-06-20T21:50:43.877Z"
   },
   {
    "duration": 284,
    "start_time": "2024-06-20T21:50:43.931Z"
   },
   {
    "duration": 18,
    "start_time": "2024-06-20T21:50:44.218Z"
   },
   {
    "duration": 298,
    "start_time": "2024-06-20T21:50:44.240Z"
   },
   {
    "duration": 10,
    "start_time": "2024-06-20T21:50:44.541Z"
   },
   {
    "duration": 292,
    "start_time": "2024-06-20T21:50:44.554Z"
   },
   {
    "duration": 11,
    "start_time": "2024-06-20T21:50:44.849Z"
   },
   {
    "duration": 279,
    "start_time": "2024-06-20T21:50:44.863Z"
   },
   {
    "duration": 8,
    "start_time": "2024-06-20T21:50:45.145Z"
   },
   {
    "duration": 3,
    "start_time": "2024-06-20T21:50:45.156Z"
   },
   {
    "duration": 370,
    "start_time": "2024-06-20T21:50:45.162Z"
   },
   {
    "duration": 0,
    "start_time": "2024-06-20T21:50:45.535Z"
   },
   {
    "duration": 0,
    "start_time": "2024-06-20T21:50:45.536Z"
   },
   {
    "duration": 0,
    "start_time": "2024-06-20T21:50:45.539Z"
   },
   {
    "duration": 0,
    "start_time": "2024-06-20T21:50:45.540Z"
   },
   {
    "duration": 0,
    "start_time": "2024-06-20T21:50:45.542Z"
   },
   {
    "duration": 3,
    "start_time": "2024-06-20T21:51:09.196Z"
   },
   {
    "duration": 14,
    "start_time": "2024-06-20T21:51:21.639Z"
   },
   {
    "duration": 17,
    "start_time": "2024-06-20T21:52:58.658Z"
   },
   {
    "duration": 15,
    "start_time": "2024-06-20T21:53:00.134Z"
   },
   {
    "duration": 17,
    "start_time": "2024-06-20T21:53:02.002Z"
   },
   {
    "duration": 13,
    "start_time": "2024-06-20T21:53:07.574Z"
   },
   {
    "duration": 11,
    "start_time": "2024-06-20T21:53:08.847Z"
   },
   {
    "duration": 5,
    "start_time": "2024-06-20T21:53:36.656Z"
   },
   {
    "duration": 13,
    "start_time": "2024-06-20T21:53:36.992Z"
   },
   {
    "duration": 11,
    "start_time": "2024-06-20T21:53:37.628Z"
   },
   {
    "duration": 16,
    "start_time": "2024-06-20T21:53:51.789Z"
   },
   {
    "duration": 13,
    "start_time": "2024-06-20T21:53:58.089Z"
   },
   {
    "duration": 17,
    "start_time": "2024-06-20T21:55:05.672Z"
   },
   {
    "duration": 6,
    "start_time": "2024-06-20T21:55:16.765Z"
   },
   {
    "duration": 7,
    "start_time": "2024-06-20T21:58:43.758Z"
   },
   {
    "duration": 11,
    "start_time": "2024-06-20T22:02:02.558Z"
   },
   {
    "duration": 11,
    "start_time": "2024-06-20T22:03:44.474Z"
   },
   {
    "duration": 11,
    "start_time": "2024-06-20T22:05:26.865Z"
   },
   {
    "duration": 10,
    "start_time": "2024-06-20T22:05:39.895Z"
   },
   {
    "duration": 305,
    "start_time": "2024-06-20T22:06:38.340Z"
   },
   {
    "duration": 639,
    "start_time": "2024-06-20T22:07:37.273Z"
   },
   {
    "duration": 161,
    "start_time": "2024-06-20T22:19:37.967Z"
   },
   {
    "duration": 361,
    "start_time": "2024-06-20T22:20:49.783Z"
   },
   {
    "duration": 416,
    "start_time": "2024-06-20T22:24:27.814Z"
   },
   {
    "duration": 627,
    "start_time": "2024-06-20T22:25:15.092Z"
   },
   {
    "duration": 54,
    "start_time": "2024-06-20T22:25:15.731Z"
   },
   {
    "duration": 11,
    "start_time": "2024-06-20T22:25:15.788Z"
   },
   {
    "duration": 10,
    "start_time": "2024-06-20T22:25:15.802Z"
   },
   {
    "duration": 4,
    "start_time": "2024-06-20T22:25:15.833Z"
   },
   {
    "duration": 5,
    "start_time": "2024-06-20T22:25:15.840Z"
   },
   {
    "duration": 4,
    "start_time": "2024-06-20T22:25:15.848Z"
   },
   {
    "duration": 5,
    "start_time": "2024-06-20T22:25:15.855Z"
   },
   {
    "duration": 18,
    "start_time": "2024-06-20T22:25:15.864Z"
   },
   {
    "duration": 57,
    "start_time": "2024-06-20T22:25:15.885Z"
   },
   {
    "duration": 16,
    "start_time": "2024-06-20T22:25:15.945Z"
   },
   {
    "duration": 7,
    "start_time": "2024-06-20T22:25:15.964Z"
   },
   {
    "duration": 57,
    "start_time": "2024-06-20T22:25:15.975Z"
   },
   {
    "duration": 11,
    "start_time": "2024-06-20T22:25:16.039Z"
   },
   {
    "duration": 16,
    "start_time": "2024-06-20T22:25:16.053Z"
   },
   {
    "duration": 18,
    "start_time": "2024-06-20T22:25:16.072Z"
   },
   {
    "duration": 9,
    "start_time": "2024-06-20T22:25:16.130Z"
   },
   {
    "duration": 304,
    "start_time": "2024-06-20T22:25:16.142Z"
   },
   {
    "duration": 10,
    "start_time": "2024-06-20T22:25:16.449Z"
   },
   {
    "duration": 298,
    "start_time": "2024-06-20T22:25:16.463Z"
   },
   {
    "duration": 11,
    "start_time": "2024-06-20T22:25:16.764Z"
   },
   {
    "duration": 281,
    "start_time": "2024-06-20T22:25:16.778Z"
   },
   {
    "duration": 14,
    "start_time": "2024-06-20T22:25:17.063Z"
   },
   {
    "duration": 284,
    "start_time": "2024-06-20T22:25:17.080Z"
   },
   {
    "duration": 3,
    "start_time": "2024-06-20T22:25:17.368Z"
   },
   {
    "duration": 4,
    "start_time": "2024-06-20T22:25:17.375Z"
   },
   {
    "duration": 14,
    "start_time": "2024-06-20T22:25:17.382Z"
   },
   {
    "duration": 45,
    "start_time": "2024-06-20T22:25:17.399Z"
   },
   {
    "duration": 670,
    "start_time": "2024-06-20T22:25:17.447Z"
   },
   {
    "duration": 386,
    "start_time": "2024-06-20T22:25:18.121Z"
   },
   {
    "duration": 388,
    "start_time": "2024-06-20T22:25:18.510Z"
   },
   {
    "duration": 343,
    "start_time": "2024-06-21T17:52:15.363Z"
   },
   {
    "duration": 4574,
    "start_time": "2024-06-21T17:53:02.693Z"
   },
   {
    "duration": 13,
    "start_time": "2024-06-21T17:53:07.270Z"
   },
   {
    "duration": 27,
    "start_time": "2024-06-21T17:53:07.286Z"
   },
   {
    "duration": 10,
    "start_time": "2024-06-21T17:53:07.319Z"
   },
   {
    "duration": 5,
    "start_time": "2024-06-21T17:53:07.332Z"
   },
   {
    "duration": 6,
    "start_time": "2024-06-21T17:53:07.341Z"
   },
   {
    "duration": 5,
    "start_time": "2024-06-21T17:53:07.350Z"
   },
   {
    "duration": 48,
    "start_time": "2024-06-21T17:53:07.358Z"
   },
   {
    "duration": 21,
    "start_time": "2024-06-21T17:53:07.410Z"
   },
   {
    "duration": 20,
    "start_time": "2024-06-21T17:53:07.438Z"
   },
   {
    "duration": 57,
    "start_time": "2024-06-21T17:53:07.461Z"
   },
   {
    "duration": 7,
    "start_time": "2024-06-21T17:53:07.522Z"
   },
   {
    "duration": 16,
    "start_time": "2024-06-21T17:53:07.533Z"
   },
   {
    "duration": 13,
    "start_time": "2024-06-21T17:53:07.554Z"
   },
   {
    "duration": 52,
    "start_time": "2024-06-21T17:53:07.570Z"
   },
   {
    "duration": 17,
    "start_time": "2024-06-21T17:53:07.625Z"
   },
   {
    "duration": 13,
    "start_time": "2024-06-21T17:53:07.646Z"
   },
   {
    "duration": 435,
    "start_time": "2024-06-21T17:53:07.662Z"
   },
   {
    "duration": 17,
    "start_time": "2024-06-21T17:53:08.099Z"
   },
   {
    "duration": 322,
    "start_time": "2024-06-21T17:53:08.121Z"
   },
   {
    "duration": 14,
    "start_time": "2024-06-21T17:53:08.446Z"
   },
   {
    "duration": 301,
    "start_time": "2024-06-21T17:53:08.465Z"
   },
   {
    "duration": 12,
    "start_time": "2024-06-21T17:53:08.770Z"
   },
   {
    "duration": 355,
    "start_time": "2024-06-21T17:53:08.805Z"
   },
   {
    "duration": 4,
    "start_time": "2024-06-21T17:53:09.163Z"
   },
   {
    "duration": 4,
    "start_time": "2024-06-21T17:53:09.170Z"
   },
   {
    "duration": 37,
    "start_time": "2024-06-21T17:53:09.178Z"
   },
   {
    "duration": 15,
    "start_time": "2024-06-21T17:53:09.223Z"
   },
   {
    "duration": 766,
    "start_time": "2024-06-21T17:53:09.241Z"
   },
   {
    "duration": 405,
    "start_time": "2024-06-21T17:53:10.011Z"
   },
   {
    "duration": 449,
    "start_time": "2024-06-21T17:53:10.420Z"
   },
   {
    "duration": 515,
    "start_time": "2024-06-21T17:53:10.872Z"
   },
   {
    "duration": 4,
    "start_time": "2024-06-21T17:59:09.276Z"
   },
   {
    "duration": 733,
    "start_time": "2024-06-21T17:59:09.891Z"
   },
   {
    "duration": 388,
    "start_time": "2024-06-21T17:59:10.628Z"
   },
   {
    "duration": 363,
    "start_time": "2024-06-21T17:59:12.906Z"
   },
   {
    "duration": 5,
    "start_time": "2024-06-21T17:59:27.105Z"
   },
   {
    "duration": 527,
    "start_time": "2024-06-21T17:59:33.665Z"
   },
   {
    "duration": 7,
    "start_time": "2024-06-21T17:59:50.259Z"
   },
   {
    "duration": 4,
    "start_time": "2024-06-21T18:11:36.884Z"
   },
   {
    "duration": 237,
    "start_time": "2024-06-21T18:17:52.948Z"
   },
   {
    "duration": 2212,
    "start_time": "2024-06-21T18:18:51.897Z"
   },
   {
    "duration": 13,
    "start_time": "2024-06-21T18:20:53.275Z"
   },
   {
    "duration": 733,
    "start_time": "2024-06-21T18:21:53.914Z"
   },
   {
    "duration": 60,
    "start_time": "2024-06-21T18:21:54.654Z"
   },
   {
    "duration": 12,
    "start_time": "2024-06-21T18:21:54.717Z"
   },
   {
    "duration": 8,
    "start_time": "2024-06-21T18:21:54.732Z"
   },
   {
    "duration": 4,
    "start_time": "2024-06-21T18:21:54.746Z"
   },
   {
    "duration": 5,
    "start_time": "2024-06-21T18:21:54.754Z"
   },
   {
    "duration": 4,
    "start_time": "2024-06-21T18:21:54.762Z"
   },
   {
    "duration": 4,
    "start_time": "2024-06-21T18:21:54.806Z"
   },
   {
    "duration": 4,
    "start_time": "2024-06-21T18:21:54.814Z"
   },
   {
    "duration": 17,
    "start_time": "2024-06-21T18:21:54.820Z"
   },
   {
    "duration": 17,
    "start_time": "2024-06-21T18:21:54.839Z"
   },
   {
    "duration": 47,
    "start_time": "2024-06-21T18:21:54.859Z"
   },
   {
    "duration": 14,
    "start_time": "2024-06-21T18:21:54.910Z"
   },
   {
    "duration": 11,
    "start_time": "2024-06-21T18:21:54.930Z"
   },
   {
    "duration": 17,
    "start_time": "2024-06-21T18:21:54.944Z"
   },
   {
    "duration": 17,
    "start_time": "2024-06-21T18:21:55.007Z"
   },
   {
    "duration": 10,
    "start_time": "2024-06-21T18:21:55.026Z"
   },
   {
    "duration": 306,
    "start_time": "2024-06-21T18:21:55.039Z"
   },
   {
    "duration": 10,
    "start_time": "2024-06-21T18:21:55.348Z"
   },
   {
    "duration": 312,
    "start_time": "2024-06-21T18:21:55.362Z"
   },
   {
    "duration": 11,
    "start_time": "2024-06-21T18:21:55.676Z"
   },
   {
    "duration": 284,
    "start_time": "2024-06-21T18:21:55.691Z"
   },
   {
    "duration": 10,
    "start_time": "2024-06-21T18:21:55.978Z"
   },
   {
    "duration": 271,
    "start_time": "2024-06-21T18:21:56.006Z"
   },
   {
    "duration": 4,
    "start_time": "2024-06-21T18:21:56.281Z"
   },
   {
    "duration": 17,
    "start_time": "2024-06-21T18:21:56.289Z"
   },
   {
    "duration": 14,
    "start_time": "2024-06-21T18:21:56.309Z"
   },
   {
    "duration": 14,
    "start_time": "2024-06-21T18:21:56.327Z"
   },
   {
    "duration": 4,
    "start_time": "2024-06-21T18:21:56.344Z"
   },
   {
    "duration": 731,
    "start_time": "2024-06-21T18:21:56.352Z"
   },
   {
    "duration": 265,
    "start_time": "2024-06-21T18:21:57.086Z"
   },
   {
    "duration": 6,
    "start_time": "2024-06-21T18:21:57.355Z"
   },
   {
    "duration": 276,
    "start_time": "2024-06-21T18:21:57.363Z"
   },
   {
    "duration": 4,
    "start_time": "2024-06-21T18:21:57.642Z"
   },
   {
    "duration": 395,
    "start_time": "2024-06-21T18:21:57.649Z"
   },
   {
    "duration": 4,
    "start_time": "2024-06-21T18:21:58.049Z"
   },
   {
    "duration": 12,
    "start_time": "2024-06-21T18:21:58.056Z"
   },
   {
    "duration": 267,
    "start_time": "2024-06-21T18:21:58.071Z"
   },
   {
    "duration": 234,
    "start_time": "2024-06-21T18:22:17.482Z"
   },
   {
    "duration": 3,
    "start_time": "2024-06-21T18:56:46.587Z"
   },
   {
    "duration": 3,
    "start_time": "2024-06-21T18:56:52.536Z"
   },
   {
    "duration": 1224,
    "start_time": "2024-06-21T19:01:27.659Z"
   },
   {
    "duration": 1889,
    "start_time": "2024-06-21T19:02:31.266Z"
   },
   {
    "duration": 495,
    "start_time": "2024-06-21T19:02:39.396Z"
   },
   {
    "duration": 338,
    "start_time": "2024-06-21T19:03:51.304Z"
   },
   {
    "duration": 350,
    "start_time": "2024-06-21T19:04:11.299Z"
   },
   {
    "duration": 211,
    "start_time": "2024-06-21T19:04:26.142Z"
   },
   {
    "duration": 223,
    "start_time": "2024-06-21T19:04:34.883Z"
   },
   {
    "duration": 283,
    "start_time": "2024-06-21T19:04:45.429Z"
   },
   {
    "duration": 328,
    "start_time": "2024-06-21T19:04:49.266Z"
   },
   {
    "duration": 294,
    "start_time": "2024-06-21T19:04:55.861Z"
   },
   {
    "duration": 368,
    "start_time": "2024-06-21T19:05:00.269Z"
   },
   {
    "duration": 290,
    "start_time": "2024-06-21T19:05:04.595Z"
   },
   {
    "duration": 272,
    "start_time": "2024-06-21T19:05:07.694Z"
   },
   {
    "duration": 263,
    "start_time": "2024-06-21T19:05:21.114Z"
   },
   {
    "duration": 21,
    "start_time": "2024-06-21T19:49:53.308Z"
   },
   {
    "duration": 15,
    "start_time": "2024-06-21T19:51:06.176Z"
   },
   {
    "duration": 24,
    "start_time": "2024-06-21T19:55:15.324Z"
   },
   {
    "duration": 12,
    "start_time": "2024-06-21T19:55:30.735Z"
   },
   {
    "duration": 13,
    "start_time": "2024-06-21T19:58:44.169Z"
   },
   {
    "duration": 241,
    "start_time": "2024-06-21T19:59:19.032Z"
   },
   {
    "duration": 263,
    "start_time": "2024-06-21T19:59:25.882Z"
   },
   {
    "duration": 251,
    "start_time": "2024-06-21T19:59:31.021Z"
   },
   {
    "duration": 195,
    "start_time": "2024-06-21T20:01:09.306Z"
   },
   {
    "duration": 205,
    "start_time": "2024-06-21T20:02:28.821Z"
   },
   {
    "duration": 76,
    "start_time": "2024-06-21T20:58:02.624Z"
   },
   {
    "duration": 175,
    "start_time": "2024-06-21T20:58:13.980Z"
   },
   {
    "duration": 270,
    "start_time": "2024-06-21T21:05:09.651Z"
   },
   {
    "duration": 7,
    "start_time": "2024-06-21T21:06:15.703Z"
   },
   {
    "duration": 7,
    "start_time": "2024-06-21T21:07:49.609Z"
   },
   {
    "duration": 7,
    "start_time": "2024-06-21T21:13:08.774Z"
   },
   {
    "duration": 14,
    "start_time": "2024-06-21T21:17:02.071Z"
   },
   {
    "duration": 204,
    "start_time": "2024-06-21T21:17:28.058Z"
   },
   {
    "duration": 195,
    "start_time": "2024-06-21T21:18:25.060Z"
   },
   {
    "duration": 200,
    "start_time": "2024-06-21T21:18:44.928Z"
   },
   {
    "duration": 7,
    "start_time": "2024-06-21T21:28:47.567Z"
   },
   {
    "duration": 4,
    "start_time": "2024-06-21T21:37:10.252Z"
   },
   {
    "duration": 3,
    "start_time": "2024-06-21T21:37:16.514Z"
   },
   {
    "duration": 613,
    "start_time": "2024-06-21T21:37:53.452Z"
   },
   {
    "duration": 1329,
    "start_time": "2024-06-21T21:38:02.091Z"
   },
   {
    "duration": 10,
    "start_time": "2024-06-21T21:38:03.426Z"
   },
   {
    "duration": 12,
    "start_time": "2024-06-21T21:38:03.439Z"
   },
   {
    "duration": 9,
    "start_time": "2024-06-21T21:38:03.454Z"
   },
   {
    "duration": 38,
    "start_time": "2024-06-21T21:38:03.468Z"
   },
   {
    "duration": 5,
    "start_time": "2024-06-21T21:38:03.510Z"
   },
   {
    "duration": 4,
    "start_time": "2024-06-21T21:38:03.519Z"
   },
   {
    "duration": 5,
    "start_time": "2024-06-21T21:38:03.526Z"
   },
   {
    "duration": 4,
    "start_time": "2024-06-21T21:38:03.534Z"
   },
   {
    "duration": 19,
    "start_time": "2024-06-21T21:38:03.541Z"
   },
   {
    "duration": 17,
    "start_time": "2024-06-21T21:38:03.607Z"
   },
   {
    "duration": 3,
    "start_time": "2024-06-21T21:38:03.628Z"
   },
   {
    "duration": 16,
    "start_time": "2024-06-21T21:38:03.634Z"
   },
   {
    "duration": 53,
    "start_time": "2024-06-21T21:38:03.659Z"
   },
   {
    "duration": 16,
    "start_time": "2024-06-21T21:38:03.715Z"
   },
   {
    "duration": 17,
    "start_time": "2024-06-21T21:38:03.734Z"
   },
   {
    "duration": 11,
    "start_time": "2024-06-21T21:38:03.754Z"
   },
   {
    "duration": 326,
    "start_time": "2024-06-21T21:38:03.769Z"
   },
   {
    "duration": 10,
    "start_time": "2024-06-21T21:38:04.106Z"
   },
   {
    "duration": 315,
    "start_time": "2024-06-21T21:38:04.120Z"
   },
   {
    "duration": 10,
    "start_time": "2024-06-21T21:38:04.438Z"
   },
   {
    "duration": 283,
    "start_time": "2024-06-21T21:38:04.453Z"
   },
   {
    "duration": 10,
    "start_time": "2024-06-21T21:38:04.739Z"
   },
   {
    "duration": 281,
    "start_time": "2024-06-21T21:38:04.752Z"
   },
   {
    "duration": 4,
    "start_time": "2024-06-21T21:38:05.036Z"
   },
   {
    "duration": 5,
    "start_time": "2024-06-21T21:38:05.042Z"
   },
   {
    "duration": 12,
    "start_time": "2024-06-21T21:38:05.051Z"
   },
   {
    "duration": 49,
    "start_time": "2024-06-21T21:38:05.067Z"
   },
   {
    "duration": 4,
    "start_time": "2024-06-21T21:38:05.120Z"
   },
   {
    "duration": 790,
    "start_time": "2024-06-21T21:38:05.126Z"
   },
   {
    "duration": 299,
    "start_time": "2024-06-21T21:38:05.919Z"
   },
   {
    "duration": 4,
    "start_time": "2024-06-21T21:38:06.221Z"
   },
   {
    "duration": 308,
    "start_time": "2024-06-21T21:38:06.229Z"
   },
   {
    "duration": 5,
    "start_time": "2024-06-21T21:38:06.541Z"
   },
   {
    "duration": 392,
    "start_time": "2024-06-21T21:38:06.549Z"
   },
   {
    "duration": 4,
    "start_time": "2024-06-21T21:38:06.944Z"
   },
   {
    "duration": 21,
    "start_time": "2024-06-21T21:38:06.950Z"
   },
   {
    "duration": 275,
    "start_time": "2024-06-21T21:38:06.974Z"
   },
   {
    "duration": 4,
    "start_time": "2024-06-21T21:38:07.251Z"
   },
   {
    "duration": 362,
    "start_time": "2024-06-21T21:38:07.259Z"
   },
   {
    "duration": 444,
    "start_time": "2024-06-21T21:38:07.630Z"
   },
   {
    "duration": 0,
    "start_time": "2024-06-21T21:38:08.077Z"
   },
   {
    "duration": 0,
    "start_time": "2024-06-21T21:38:08.080Z"
   },
   {
    "duration": 0,
    "start_time": "2024-06-21T21:38:08.083Z"
   },
   {
    "duration": 0,
    "start_time": "2024-06-21T21:38:08.086Z"
   },
   {
    "duration": 8,
    "start_time": "2024-06-21T21:38:54.305Z"
   },
   {
    "duration": 249,
    "start_time": "2024-06-21T21:40:56.966Z"
   },
   {
    "duration": 7,
    "start_time": "2024-06-21T21:41:05.468Z"
   },
   {
    "duration": 257,
    "start_time": "2024-06-21T21:42:05.959Z"
   },
   {
    "duration": 225,
    "start_time": "2024-06-21T21:42:22.361Z"
   },
   {
    "duration": 208,
    "start_time": "2024-06-21T21:43:49.469Z"
   },
   {
    "duration": 7,
    "start_time": "2024-06-21T21:43:53.946Z"
   },
   {
    "duration": 1189,
    "start_time": "2024-06-21T21:44:00.388Z"
   },
   {
    "duration": 10,
    "start_time": "2024-06-21T21:44:01.582Z"
   },
   {
    "duration": 12,
    "start_time": "2024-06-21T21:44:01.605Z"
   },
   {
    "duration": 8,
    "start_time": "2024-06-21T21:44:01.621Z"
   },
   {
    "duration": 5,
    "start_time": "2024-06-21T21:44:01.632Z"
   },
   {
    "duration": 6,
    "start_time": "2024-06-21T21:44:01.641Z"
   },
   {
    "duration": 5,
    "start_time": "2024-06-21T21:44:01.650Z"
   },
   {
    "duration": 49,
    "start_time": "2024-06-21T21:44:01.659Z"
   },
   {
    "duration": 4,
    "start_time": "2024-06-21T21:44:01.712Z"
   },
   {
    "duration": 16,
    "start_time": "2024-06-21T21:44:01.724Z"
   },
   {
    "duration": 63,
    "start_time": "2024-06-21T21:44:01.743Z"
   },
   {
    "duration": 3,
    "start_time": "2024-06-21T21:44:01.809Z"
   },
   {
    "duration": 17,
    "start_time": "2024-06-21T21:44:01.815Z"
   },
   {
    "duration": 20,
    "start_time": "2024-06-21T21:44:01.835Z"
   },
   {
    "duration": 63,
    "start_time": "2024-06-21T21:44:01.859Z"
   },
   {
    "duration": 18,
    "start_time": "2024-06-21T21:44:01.926Z"
   },
   {
    "duration": 10,
    "start_time": "2024-06-21T21:44:01.948Z"
   },
   {
    "duration": 325,
    "start_time": "2024-06-21T21:44:01.962Z"
   },
   {
    "duration": 23,
    "start_time": "2024-06-21T21:44:02.291Z"
   },
   {
    "duration": 311,
    "start_time": "2024-06-21T21:44:02.317Z"
   },
   {
    "duration": 11,
    "start_time": "2024-06-21T21:44:02.631Z"
   },
   {
    "duration": 363,
    "start_time": "2024-06-21T21:44:02.644Z"
   },
   {
    "duration": 12,
    "start_time": "2024-06-21T21:44:03.010Z"
   },
   {
    "duration": 284,
    "start_time": "2024-06-21T21:44:03.025Z"
   },
   {
    "duration": 4,
    "start_time": "2024-06-21T21:44:03.312Z"
   },
   {
    "duration": 5,
    "start_time": "2024-06-21T21:44:03.319Z"
   },
   {
    "duration": 13,
    "start_time": "2024-06-21T21:44:03.327Z"
   },
   {
    "duration": 13,
    "start_time": "2024-06-21T21:44:03.348Z"
   },
   {
    "duration": 5,
    "start_time": "2024-06-21T21:44:03.407Z"
   },
   {
    "duration": 764,
    "start_time": "2024-06-21T21:44:03.415Z"
   },
   {
    "duration": 264,
    "start_time": "2024-06-21T21:44:04.182Z"
   },
   {
    "duration": 3,
    "start_time": "2024-06-21T21:44:04.449Z"
   },
   {
    "duration": 269,
    "start_time": "2024-06-21T21:44:04.456Z"
   },
   {
    "duration": 4,
    "start_time": "2024-06-21T21:44:04.728Z"
   },
   {
    "duration": 345,
    "start_time": "2024-06-21T21:44:04.736Z"
   },
   {
    "duration": 4,
    "start_time": "2024-06-21T21:44:05.084Z"
   },
   {
    "duration": 26,
    "start_time": "2024-06-21T21:44:05.091Z"
   },
   {
    "duration": 272,
    "start_time": "2024-06-21T21:44:05.119Z"
   },
   {
    "duration": 13,
    "start_time": "2024-06-21T21:44:05.394Z"
   },
   {
    "duration": 323,
    "start_time": "2024-06-21T21:44:05.411Z"
   },
   {
    "duration": 240,
    "start_time": "2024-06-21T21:44:05.737Z"
   },
   {
    "duration": 224,
    "start_time": "2024-06-21T21:44:05.980Z"
   },
   {
    "duration": 8,
    "start_time": "2024-06-21T21:44:06.208Z"
   },
   {
    "duration": 4,
    "start_time": "2024-06-21T21:44:06.219Z"
   },
   {
    "duration": 8,
    "start_time": "2024-06-21T21:44:06.226Z"
   },
   {
    "duration": 693,
    "start_time": "2024-06-21T21:51:58.248Z"
   },
   {
    "duration": 274,
    "start_time": "2024-06-21T21:52:53.338Z"
   },
   {
    "duration": 244,
    "start_time": "2024-06-21T21:53:08.473Z"
   },
   {
    "duration": 4,
    "start_time": "2024-06-21T21:53:25.628Z"
   },
   {
    "duration": 3,
    "start_time": "2024-06-21T21:53:37.998Z"
   },
   {
    "duration": 4,
    "start_time": "2024-06-21T21:54:16.330Z"
   },
   {
    "duration": 207,
    "start_time": "2024-06-21T21:54:43.734Z"
   },
   {
    "duration": 4,
    "start_time": "2024-06-21T21:55:27.182Z"
   },
   {
    "duration": 3,
    "start_time": "2024-06-21T21:55:27.339Z"
   },
   {
    "duration": 4,
    "start_time": "2024-06-21T21:55:27.511Z"
   },
   {
    "duration": 4,
    "start_time": "2024-06-21T21:55:27.663Z"
   },
   {
    "duration": 4,
    "start_time": "2024-06-21T22:28:29.472Z"
   },
   {
    "duration": 13,
    "start_time": "2024-06-21T22:29:23.235Z"
   },
   {
    "duration": 466,
    "start_time": "2024-06-21T22:29:32.768Z"
   },
   {
    "duration": 5,
    "start_time": "2024-06-21T22:29:37.565Z"
   },
   {
    "duration": 1200,
    "start_time": "2024-06-21T23:04:15.876Z"
   },
   {
    "duration": 377,
    "start_time": "2024-06-21T23:04:48.433Z"
   },
   {
    "duration": 6,
    "start_time": "2024-06-21T23:06:15.330Z"
   },
   {
    "duration": 287,
    "start_time": "2024-06-21T23:07:38.614Z"
   },
   {
    "duration": 18,
    "start_time": "2024-06-21T23:17:31.129Z"
   },
   {
    "duration": 3,
    "start_time": "2024-06-21T23:39:14.606Z"
   },
   {
    "duration": 14,
    "start_time": "2024-06-21T23:45:35.690Z"
   },
   {
    "duration": 33,
    "start_time": "2024-06-21T23:45:43.020Z"
   },
   {
    "duration": 12,
    "start_time": "2024-06-21T23:45:51.115Z"
   },
   {
    "duration": 13,
    "start_time": "2024-06-21T23:46:15.793Z"
   },
   {
    "duration": 13,
    "start_time": "2024-06-21T23:46:19.611Z"
   },
   {
    "duration": 12,
    "start_time": "2024-06-21T23:46:29.401Z"
   },
   {
    "duration": 12,
    "start_time": "2024-06-21T23:46:35.541Z"
   },
   {
    "duration": 12,
    "start_time": "2024-06-21T23:46:41.162Z"
   },
   {
    "duration": 12,
    "start_time": "2024-06-21T23:46:44.854Z"
   },
   {
    "duration": 12,
    "start_time": "2024-06-21T23:47:28.325Z"
   },
   {
    "duration": 11,
    "start_time": "2024-06-21T23:52:52.536Z"
   },
   {
    "duration": 108,
    "start_time": "2024-06-22T00:00:05.598Z"
   },
   {
    "duration": 40,
    "start_time": "2024-06-22T00:06:54.878Z"
   },
   {
    "duration": 6,
    "start_time": "2024-06-22T00:12:39.342Z"
   },
   {
    "duration": 41,
    "start_time": "2024-06-22T00:22:22.614Z"
   },
   {
    "duration": 46,
    "start_time": "2024-06-22T00:22:41.446Z"
   },
   {
    "duration": 19,
    "start_time": "2024-06-22T00:22:55.519Z"
   },
   {
    "duration": 9,
    "start_time": "2024-06-22T02:25:11.327Z"
   },
   {
    "duration": 256,
    "start_time": "2024-06-22T02:41:20.986Z"
   },
   {
    "duration": 271,
    "start_time": "2024-06-22T02:41:39.133Z"
   },
   {
    "duration": 266,
    "start_time": "2024-06-22T02:41:56.161Z"
   },
   {
    "duration": 302,
    "start_time": "2024-06-22T02:42:07.852Z"
   },
   {
    "duration": 4866,
    "start_time": "2024-06-22T22:00:37.067Z"
   },
   {
    "duration": 14,
    "start_time": "2024-06-22T22:00:41.936Z"
   },
   {
    "duration": 15,
    "start_time": "2024-06-22T22:00:41.952Z"
   },
   {
    "duration": 10,
    "start_time": "2024-06-22T22:00:41.971Z"
   },
   {
    "duration": 5,
    "start_time": "2024-06-22T22:00:41.984Z"
   },
   {
    "duration": 33,
    "start_time": "2024-06-22T22:00:41.992Z"
   },
   {
    "duration": 6,
    "start_time": "2024-06-22T22:00:42.029Z"
   },
   {
    "duration": 6,
    "start_time": "2024-06-22T22:00:42.039Z"
   },
   {
    "duration": 16,
    "start_time": "2024-06-22T22:00:42.049Z"
   },
   {
    "duration": 59,
    "start_time": "2024-06-22T22:00:42.072Z"
   },
   {
    "duration": 14,
    "start_time": "2024-06-22T22:00:42.134Z"
   },
   {
    "duration": 12,
    "start_time": "2024-06-22T22:00:42.151Z"
   },
   {
    "duration": 57,
    "start_time": "2024-06-22T22:00:42.167Z"
   },
   {
    "duration": 15,
    "start_time": "2024-06-22T22:00:42.228Z"
   },
   {
    "duration": 10,
    "start_time": "2024-06-22T22:00:42.247Z"
   },
   {
    "duration": 313,
    "start_time": "2024-06-22T22:00:42.261Z"
   },
   {
    "duration": 10,
    "start_time": "2024-06-22T22:00:42.577Z"
   },
   {
    "duration": 305,
    "start_time": "2024-06-22T22:00:42.590Z"
   },
   {
    "duration": 25,
    "start_time": "2024-06-22T22:00:42.898Z"
   },
   {
    "duration": 270,
    "start_time": "2024-06-22T22:00:42.930Z"
   },
   {
    "duration": 22,
    "start_time": "2024-06-22T22:00:43.204Z"
   },
   {
    "duration": 276,
    "start_time": "2024-06-22T22:00:43.230Z"
   },
   {
    "duration": 14,
    "start_time": "2024-06-22T22:00:43.509Z"
   },
   {
    "duration": 4,
    "start_time": "2024-06-22T22:00:43.526Z"
   },
   {
    "duration": 3,
    "start_time": "2024-06-22T22:00:43.534Z"
   },
   {
    "duration": 702,
    "start_time": "2024-06-22T22:00:43.540Z"
   },
   {
    "duration": 281,
    "start_time": "2024-06-22T22:00:44.246Z"
   },
   {
    "duration": 256,
    "start_time": "2024-06-22T22:00:44.534Z"
   },
   {
    "duration": 4,
    "start_time": "2024-06-22T22:00:44.793Z"
   },
   {
    "duration": 392,
    "start_time": "2024-06-22T22:00:44.801Z"
   },
   {
    "duration": 3,
    "start_time": "2024-06-22T22:00:45.196Z"
   },
   {
    "duration": 29,
    "start_time": "2024-06-22T22:00:45.203Z"
   },
   {
    "duration": 262,
    "start_time": "2024-06-22T22:00:45.236Z"
   },
   {
    "duration": 4,
    "start_time": "2024-06-22T22:00:45.501Z"
   },
   {
    "duration": 347,
    "start_time": "2024-06-22T22:00:45.508Z"
   },
   {
    "duration": 228,
    "start_time": "2024-06-22T22:00:45.858Z"
   },
   {
    "duration": 294,
    "start_time": "2024-06-22T22:00:46.089Z"
   },
   {
    "duration": 9,
    "start_time": "2024-06-22T22:00:46.385Z"
   },
   {
    "duration": 6,
    "start_time": "2024-06-22T22:00:46.398Z"
   },
   {
    "duration": 6,
    "start_time": "2024-06-22T22:00:46.425Z"
   },
   {
    "duration": 342,
    "start_time": "2024-06-22T22:00:46.435Z"
   },
   {
    "duration": 14,
    "start_time": "2024-06-22T22:00:46.780Z"
   },
   {
    "duration": 33,
    "start_time": "2024-06-22T22:00:46.798Z"
   },
   {
    "duration": 40,
    "start_time": "2024-06-22T22:00:46.833Z"
   },
   {
    "duration": 8,
    "start_time": "2024-06-22T22:00:46.876Z"
   },
   {
    "duration": 53,
    "start_time": "2024-06-22T22:00:46.886Z"
   },
   {
    "duration": 299,
    "start_time": "2024-06-22T22:00:57.027Z"
   },
   {
    "duration": 273,
    "start_time": "2024-06-22T22:01:04.490Z"
   },
   {
    "duration": 334,
    "start_time": "2024-06-22T22:01:14.559Z"
   },
   {
    "duration": 323,
    "start_time": "2024-06-22T22:01:22.562Z"
   },
   {
    "duration": 281,
    "start_time": "2024-06-22T22:01:31.311Z"
   },
   {
    "duration": 270,
    "start_time": "2024-06-22T22:01:42.040Z"
   },
   {
    "duration": 284,
    "start_time": "2024-06-22T22:01:48.842Z"
   },
   {
    "duration": 297,
    "start_time": "2024-06-22T22:01:56.028Z"
   },
   {
    "duration": 352,
    "start_time": "2024-06-22T22:02:10.357Z"
   },
   {
    "duration": 404,
    "start_time": "2024-06-22T22:02:17.918Z"
   },
   {
    "duration": 402,
    "start_time": "2024-06-22T22:02:24.890Z"
   },
   {
    "duration": 290,
    "start_time": "2024-06-22T22:02:38.703Z"
   },
   {
    "duration": 356,
    "start_time": "2024-06-22T22:02:45.447Z"
   },
   {
    "duration": 332,
    "start_time": "2024-06-22T22:02:57.480Z"
   },
   {
    "duration": 234,
    "start_time": "2024-06-22T22:07:19.966Z"
   },
   {
    "duration": 230,
    "start_time": "2024-06-22T22:07:28.583Z"
   },
   {
    "duration": 3,
    "start_time": "2024-06-22T22:09:55.607Z"
   },
   {
    "duration": 442,
    "start_time": "2024-06-22T22:19:06.033Z"
   },
   {
    "duration": 19,
    "start_time": "2024-06-22T22:19:42.575Z"
   },
   {
    "duration": 3,
    "start_time": "2024-06-22T22:26:23.530Z"
   },
   {
    "duration": 320,
    "start_time": "2024-06-22T23:01:03.586Z"
   },
   {
    "duration": 2496,
    "start_time": "2024-09-12T17:12:20.248Z"
   },
   {
    "duration": 13,
    "start_time": "2024-09-12T17:12:22.747Z"
   },
   {
    "duration": 10,
    "start_time": "2024-09-12T17:12:22.763Z"
   },
   {
    "duration": 8,
    "start_time": "2024-09-12T17:12:22.774Z"
   },
   {
    "duration": 2,
    "start_time": "2024-09-12T17:12:22.784Z"
   },
   {
    "duration": 4,
    "start_time": "2024-09-12T17:12:22.788Z"
   },
   {
    "duration": 3,
    "start_time": "2024-09-12T17:12:22.793Z"
   },
   {
    "duration": 15,
    "start_time": "2024-09-12T17:12:22.797Z"
   },
   {
    "duration": 9,
    "start_time": "2024-09-12T17:12:22.814Z"
   },
   {
    "duration": 10,
    "start_time": "2024-09-12T17:12:22.825Z"
   },
   {
    "duration": 8,
    "start_time": "2024-09-12T17:12:22.836Z"
   },
   {
    "duration": 6,
    "start_time": "2024-09-12T17:12:22.846Z"
   },
   {
    "duration": 9,
    "start_time": "2024-09-12T17:12:22.854Z"
   },
   {
    "duration": 8,
    "start_time": "2024-09-12T17:12:22.866Z"
   },
   {
    "duration": 41,
    "start_time": "2024-09-12T17:12:22.876Z"
   },
   {
    "duration": 158,
    "start_time": "2024-09-12T17:12:22.919Z"
   },
   {
    "duration": 6,
    "start_time": "2024-09-12T17:12:23.079Z"
   },
   {
    "duration": 169,
    "start_time": "2024-09-12T17:12:23.086Z"
   },
   {
    "duration": 7,
    "start_time": "2024-09-12T17:12:23.257Z"
   },
   {
    "duration": 157,
    "start_time": "2024-09-12T17:12:23.266Z"
   },
   {
    "duration": 8,
    "start_time": "2024-09-12T17:12:23.426Z"
   },
   {
    "duration": 147,
    "start_time": "2024-09-12T17:12:23.436Z"
   },
   {
    "duration": 2,
    "start_time": "2024-09-12T17:12:23.585Z"
   },
   {
    "duration": 3,
    "start_time": "2024-09-12T17:12:23.589Z"
   },
   {
    "duration": 18,
    "start_time": "2024-09-12T17:12:23.594Z"
   },
   {
    "duration": 361,
    "start_time": "2024-09-12T17:12:23.613Z"
   },
   {
    "duration": 201,
    "start_time": "2024-09-12T17:12:23.976Z"
   },
   {
    "duration": 169,
    "start_time": "2024-09-12T17:12:24.179Z"
   },
   {
    "duration": 2,
    "start_time": "2024-09-12T17:12:24.350Z"
   },
   {
    "duration": 263,
    "start_time": "2024-09-12T17:12:24.353Z"
   },
   {
    "duration": 2,
    "start_time": "2024-09-12T17:12:24.618Z"
   },
   {
    "duration": 9,
    "start_time": "2024-09-12T17:12:24.622Z"
   },
   {
    "duration": 170,
    "start_time": "2024-09-12T17:12:24.633Z"
   },
   {
    "duration": 12,
    "start_time": "2024-09-12T17:12:24.804Z"
   },
   {
    "duration": 247,
    "start_time": "2024-09-12T17:12:24.818Z"
   },
   {
    "duration": 121,
    "start_time": "2024-09-12T17:12:25.067Z"
   },
   {
    "duration": 129,
    "start_time": "2024-09-12T17:12:25.190Z"
   },
   {
    "duration": 5,
    "start_time": "2024-09-12T17:12:25.321Z"
   },
   {
    "duration": 4,
    "start_time": "2024-09-12T17:12:25.329Z"
   },
   {
    "duration": 4,
    "start_time": "2024-09-12T17:12:25.335Z"
   },
   {
    "duration": 2,
    "start_time": "2024-09-12T17:12:25.343Z"
   },
   {
    "duration": 160,
    "start_time": "2024-09-12T17:12:25.347Z"
   },
   {
    "duration": 12,
    "start_time": "2024-09-12T17:12:25.513Z"
   },
   {
    "duration": 8,
    "start_time": "2024-09-12T17:12:25.527Z"
   },
   {
    "duration": 5,
    "start_time": "2024-09-12T17:12:25.536Z"
   },
   {
    "duration": 20,
    "start_time": "2024-09-12T17:12:25.542Z"
   },
   {
    "duration": 3,
    "start_time": "2024-09-12T17:12:25.563Z"
   },
   {
    "duration": 53,
    "start_time": "2024-09-12T17:12:25.567Z"
   }
  ],
  "kernelspec": {
   "display_name": "base",
   "language": "python",
   "name": "python3"
  },
  "language_info": {
   "codemirror_mode": {
    "name": "ipython",
    "version": 3
   },
   "file_extension": ".py",
   "mimetype": "text/x-python",
   "name": "python",
   "nbconvert_exporter": "python",
   "pygments_lexer": "ipython3",
   "version": "3.11.7"
  },
  "toc": {
   "base_numbering": 1,
   "nav_menu": {},
   "number_sections": true,
   "sideBar": true,
   "skip_h1_title": true,
   "title_cell": "Table of Contents",
   "title_sidebar": "Contents",
   "toc_cell": false,
   "toc_position": {},
   "toc_section_display": true,
   "toc_window_display": false
  }
 },
 "nbformat": 4,
 "nbformat_minor": 2
}
